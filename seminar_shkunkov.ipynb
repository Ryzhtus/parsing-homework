{
  "nbformat": 4,
  "nbformat_minor": 0,
  "metadata": {
    "kernelspec": {
      "display_name": "Python 3",
      "language": "python",
      "name": "python3"
    },
    "language_info": {
      "codemirror_mode": {
        "name": "ipython",
        "version": 3
      },
      "file_extension": ".py",
      "mimetype": "text/x-python",
      "name": "python",
      "nbconvert_exporter": "python",
      "pygments_lexer": "ipython3",
      "version": "3.7.4"
    },
    "colab": {
      "name": "seminar-shkunkov.ipynb",
      "provenance": [],
      "collapsed_sections": []
    }
  },
  "cells": [
    {
      "cell_type": "code",
      "metadata": {
        "id": "BGkHFYlHuI1V",
        "colab": {
          "base_uri": "https://localhost:8080/"
        },
        "outputId": "5e3f29e4-e804-4013-f849-f3f64f150784"
      },
      "source": [
        "! pip install conllu\n",
        "! pip install graphviz\n",
        "! pip install ufal.udpipe\n",
        "! wget -q -O russian-ud-2.0-170801.udpipe https://github.com/jwijffels/udpipe.models.ud.2.0/blob/master/inst/udpipe-ud-2.0-170801/russian-ud-2.0-170801.udpipe?raw=true\n",
        "! wget -q https://github.com/ufal/udpipe/releases/download/v1.2.0/udpipe-1.2.0-bin.zip; unzip -qq udpipe-1.2.0-bin.zip; mv udpipe-1.2.0-bin/bin-linux64/udpipe ./udpipe;"
      ],
      "execution_count": 1,
      "outputs": [
        {
          "output_type": "stream",
          "text": [
            "Collecting conllu\n",
            "  Downloading https://files.pythonhosted.org/packages/1c/20/39bf21e3a0304c874c40c9cec96e3f70d2ef4b1ada3585f7dbee91dc8c05/conllu-4.2.1-py2.py3-none-any.whl\n",
            "Installing collected packages: conllu\n",
            "Successfully installed conllu-4.2.1\n",
            "Requirement already satisfied: graphviz in /usr/local/lib/python3.6/dist-packages (0.10.1)\n",
            "Collecting ufal.udpipe\n",
            "\u001b[?25l  Downloading https://files.pythonhosted.org/packages/e5/72/2b8b9dc7c80017c790bb3308bbad34b57accfed2ac2f1f4ab252ff4e9cb2/ufal.udpipe-1.2.0.3.tar.gz (304kB)\n",
            "\u001b[K     |████████████████████████████████| 307kB 5.8MB/s \n",
            "\u001b[?25hBuilding wheels for collected packages: ufal.udpipe\n",
            "  Building wheel for ufal.udpipe (setup.py) ... \u001b[?25l\u001b[?25hdone\n",
            "  Created wheel for ufal.udpipe: filename=ufal.udpipe-1.2.0.3-cp36-cp36m-linux_x86_64.whl size=5625146 sha256=ce5f9f28e368a82e54c87cc35f2e04b40b82e4a58b2462e547552757c0a67fa9\n",
            "  Stored in directory: /root/.cache/pip/wheels/0c/9d/db/6d3404c33da5b7adb6c6972853efb6a27649d3ba15f7e9bebb\n",
            "Successfully built ufal.udpipe\n",
            "Installing collected packages: ufal.udpipe\n",
            "Successfully installed ufal.udpipe-1.2.0.3\n"
          ],
          "name": "stdout"
        }
      ]
    },
    {
      "cell_type": "markdown",
      "metadata": {
        "id": "_-vRWzgfsnnZ"
      },
      "source": [
        "# Depencency parsing\n",
        "(парсинг зависимостей)\n",
        "\n",
        "## Что это?\n",
        "\n",
        "* наша цель -- представить предложение естественного языка в виде дерева\n",
        "* слова предложения -- вершины; *зависимости (dependencies)* между ними -- рёбра\n",
        "* зависимости могут быть разными: например, субъект глагола, объект глагола, прилагательное-модификатор, и так далее\n",
        "\n",
        "## Формат\n",
        "\n",
        "Существует несколько форматов записи деревьев зависимостей, но самый популярный и общеиспользуемый -- [CoNLL-U](http://universaldependencies.org/format.html).<br/>\n",
        "Как это выглядит (пример из [русского Universal Dependency трибанка](https://github.com/UniversalDependencies/UD_Russian-SynTagRus)):"
      ]
    },
    {
      "cell_type": "code",
      "metadata": {
        "id": "chzphYDJsnne"
      },
      "source": [
        "my_example = \"\"\"\n",
        "# sent_id = 2003Armeniya.xml_138\n",
        "# text = Перспективы развития сферы высоких технологий.\n",
        "1\tПерспективы\tперспектива\tNOUN\t_\tAnimacy=Inan|Case=Nom|Gender=Fem|Number=Plur\t0\tROOT\t0:root\t_\n",
        "2\tразвития\tразвитие\tNOUN\t_\tAnimacy=Inan|Case=Gen|Gender=Neut|Number=Sing\t1\tnmod\t1:nmod\t_\n",
        "3\tсферы\tсфера\tNOUN\t_\tAnimacy=Inan|Case=Gen|Gender=Fem|Number=Sing\t2\tnmod\t2:nmod\t_\n",
        "4\tвысоких\tвысокий\tADJ\t_\tCase=Gen|Degree=Pos|Number=Plur\t5\tamod\t5:amod\t_\n",
        "5\tтехнологий\tтехнология\tNOUN\t_\tAnimacy=Inan|Case=Gen|Gender=Fem|Number=Plur\t3\tnmod\t3:nmod\tSpaceAfter=No\n",
        "6\t.\t.\tPUNCT\t_\t_\t1\tpunct\t1:punct\t_\n",
        "\"\"\""
      ],
      "execution_count": 2,
      "outputs": []
    },
    {
      "cell_type": "markdown",
      "metadata": {
        "id": "iFusR9-Osnnl"
      },
      "source": [
        "Комментарии + таблица c 9 колонками (разделители табы):\n",
        "* ID: начинается с 1, 0 зарезервирован для root.\n",
        "* FORM: токен.\n",
        "* LEMMA: начальная форма.\n",
        "* UPOS: универсальная часть речи.\n",
        "* XPOS: лингво-специфичная часть речи.\n",
        "* FEATS: морфологическая информация: падеж, род, число etc.\n",
        "* HEAD: id ролителя.\n",
        "* DEPREL: тип зависимости, то есть отношение к токену-родителю.\n",
        "* DEPS: альтернативный подграф (не будем углубляться :))\n",
        "* MISC: всё остальное.\n",
        "\n",
        "Отсутствующие данные представляются с помощью `_`. Больше подробностей про формат -- в [официальной документаци](http://universaldependencies.org/format.html).<br>\n",
        "User-friendly визуализация: \n",
        "\n",
        "![armenia dependency](https://drive.google.com/uc?id=1aIpgdpZyqryfSMtUpp15Dq2t7KNTXuzH)\n",
        "\n",
        "Отрытый инструмент для визуализации, ручной разметки и конвертации в другие форматы: UD Annotatrix. [Online-интерфейс](https://maryszmary.github.io/ud-annotatrix/standalone/annotator.html), [репозиторий](https://github.com/jonorthwash/ud-annotatrix).\n",
        "\n",
        "Трибанк -- много таких предложений. Обычно они разделяются двумя переносами строки.\n",
        "### Как считывать данные в питоне\n",
        "\n",
        "Используем библиотеку [conllu](https://github.com/EmilStenstrom/conllu)."
      ]
    },
    {
      "cell_type": "code",
      "metadata": {
        "id": "5yb6oCvesnnn"
      },
      "source": [
        "from conllu import parse"
      ],
      "execution_count": 3,
      "outputs": []
    },
    {
      "cell_type": "code",
      "metadata": {
        "id": "d6mfEkLLsnnv",
        "colab": {
          "base_uri": "https://localhost:8080/"
        },
        "outputId": "e5c1c40f-46eb-4278-a814-abe4ffb3a0be"
      },
      "source": [
        "help(parse)"
      ],
      "execution_count": 4,
      "outputs": [
        {
          "output_type": "stream",
          "text": [
            "Help on function parse in module conllu:\n",
            "\n",
            "parse(data:str, fields:Union[Sequence[str], NoneType]=None, field_parsers:Dict[str, Callable[[List[str], int], Any]]=None, metadata_parsers:Union[Dict[str, Callable[[str, Union[str, NoneType]], Any]], NoneType]=None) -> List[conllu.models.TokenList]\n",
            "\n"
          ],
          "name": "stdout"
        }
      ]
    },
    {
      "cell_type": "code",
      "metadata": {
        "id": "iyJUMwUAsnnx",
        "colab": {
          "base_uri": "https://localhost:8080/"
        },
        "outputId": "a47e39e5-c1de-4785-d45e-fa04a0c5b7c2"
      },
      "source": [
        "sentences = parse(my_example)\n",
        "sentence = sentences[0]\n",
        "sentence[0]"
      ],
      "execution_count": 5,
      "outputs": [
        {
          "output_type": "execute_result",
          "data": {
            "text/plain": [
              "{'deprel': 'ROOT',\n",
              " 'deps': [('root', 0)],\n",
              " 'feats': {'Animacy': 'Inan',\n",
              "  'Case': 'Nom',\n",
              "  'Gender': 'Fem',\n",
              "  'Number': 'Plur'},\n",
              " 'form': 'Перспективы',\n",
              " 'head': 0,\n",
              " 'id': 1,\n",
              " 'lemma': 'перспектива',\n",
              " 'misc': None,\n",
              " 'upos': 'NOUN',\n",
              " 'xpos': None}"
            ]
          },
          "metadata": {
            "tags": []
          },
          "execution_count": 5
        }
      ]
    },
    {
      "cell_type": "code",
      "metadata": {
        "id": "Oae0XvGPJo0Z",
        "colab": {
          "base_uri": "https://localhost:8080/"
        },
        "outputId": "b38f95d0-d775-444d-9ec7-bf678b379223"
      },
      "source": [
        "sentence[-1]"
      ],
      "execution_count": 6,
      "outputs": [
        {
          "output_type": "execute_result",
          "data": {
            "text/plain": [
              "{'deprel': 'punct',\n",
              " 'deps': [('punct', 1)],\n",
              " 'feats': None,\n",
              " 'form': '.',\n",
              " 'head': 1,\n",
              " 'id': 6,\n",
              " 'lemma': '.',\n",
              " 'misc': None,\n",
              " 'upos': 'PUNCT',\n",
              " 'xpos': None}"
            ]
          },
          "metadata": {
            "tags": []
          },
          "execution_count": 6
        }
      ]
    },
    {
      "cell_type": "markdown",
      "metadata": {
        "id": "Is1heZKqsnn1"
      },
      "source": [
        "## Визуализация\n",
        "\n",
        "В nltk есть [DependencyGraph](https://www.nltk.org/api/nltk.parse.html?highlight=dependencygraph#nltk.parse.dependencygraph.DependencyGraph), который умеет рисовать деревья (и ещё многое другое). Для того, чтобы визуализация работала корректно, ему нужна зависимость: graphviz. (Если что-то не работает, возможно, стоит поставить \n",
        "pygraphviz)\n",
        "\n",
        "```\n",
        "sudo apt-get install graphviz\n",
        "pip install graphviz\n",
        "```"
      ]
    },
    {
      "cell_type": "code",
      "metadata": {
        "id": "SXPH6MlZsnn2"
      },
      "source": [
        "from nltk import DependencyGraph"
      ],
      "execution_count": 7,
      "outputs": []
    },
    {
      "cell_type": "markdown",
      "metadata": {
        "id": "2E60EI6Usnn4"
      },
      "source": [
        "В отличие от `conllu`, `DependencyGraph` не справляется с комментариями, поэтому придётся их убрать. Кроме того ему обязательно нужен `deprel` *ROOT* в верхнем регистре, иначе он не находит корень."
      ]
    },
    {
      "cell_type": "code",
      "metadata": {
        "id": "R1y0OKloZsny"
      },
      "source": [
        "def parse_to_graph(dependency: str) -> DependencyGraph:\n",
        "  lines = dependency.split('\\n')\n",
        "  # nonempty, ignores comments, upcases root deprel.\n",
        "  lines = [line.replace('\\troot\\t', '\\tROOT\\t') for line in lines if not line.startswith('#') and line]\n",
        "  # Не совсем верно, в английском варианте может заменить лемму root на ROOT, а не вид связи\n",
        "  # но в рамках данного ноутбука этот недостаток опускается, так как работа идет\n",
        "  # с русским языком.\n",
        "  return DependencyGraph(tree_str='\\n'.join(lines))\n",
        "  "
      ],
      "execution_count": 8,
      "outputs": []
    },
    {
      "cell_type": "code",
      "metadata": {
        "id": "i4dpYfqDZ65B",
        "colab": {
          "base_uri": "https://localhost:8080/",
          "height": 660
        },
        "outputId": "6b805a47-4574-444a-c0aa-27f5056bfa0d"
      },
      "source": [
        "graph = parse_to_graph(my_example)\n",
        "graph"
      ],
      "execution_count": 9,
      "outputs": [
        {
          "output_type": "execute_result",
          "data": {
            "text/plain": [
              "<DependencyGraph with 7 nodes>"
            ],
            "image/svg+xml": "<?xml version=\"1.0\" encoding=\"UTF-8\" standalone=\"no\"?>\n<!DOCTYPE svg PUBLIC \"-//W3C//DTD SVG 1.1//EN\"\n \"http://www.w3.org/Graphics/SVG/1.1/DTD/svg11.dtd\">\n<!-- Generated by graphviz version 2.40.1 (20161225.0304)\n -->\n<!-- Title: G Pages: 1 -->\n<svg width=\"180pt\" height=\"479pt\"\n viewBox=\"0.00 0.00 179.50 479.00\" xmlns=\"http://www.w3.org/2000/svg\" xmlns:xlink=\"http://www.w3.org/1999/xlink\">\n<g id=\"graph0\" class=\"graph\" transform=\"scale(1 1) rotate(0) translate(4 475)\">\n<title>G</title>\n<polygon fill=\"#ffffff\" stroke=\"transparent\" points=\"-4,4 -4,-475 175.5,-475 175.5,4 -4,4\"/>\n<!-- 0 -->\n<g id=\"node1\" class=\"node\">\n<title>0</title>\n<text text-anchor=\"middle\" x=\"98.5\" y=\"-449.3\" font-family=\"Times,serif\" font-size=\"14.00\" fill=\"#000000\">0 (None)</text>\n</g>\n<!-- 1 -->\n<g id=\"node2\" class=\"node\">\n<title>1</title>\n<text text-anchor=\"middle\" x=\"98.5\" y=\"-362.3\" font-family=\"Times,serif\" font-size=\"14.00\" fill=\"#000000\">1 (Перспективы)</text>\n</g>\n<!-- 0&#45;&gt;1 -->\n<g id=\"edge1\" class=\"edge\">\n<title>0&#45;&gt;1</title>\n<path fill=\"none\" stroke=\"#000000\" d=\"M98.5,-434.9735C98.5,-423.1918 98.5,-407.5607 98.5,-394.1581\"/>\n<polygon fill=\"#000000\" stroke=\"#000000\" points=\"102.0001,-394.0033 98.5,-384.0034 95.0001,-394.0034 102.0001,-394.0033\"/>\n<text text-anchor=\"middle\" x=\"118.5\" y=\"-405.8\" font-family=\"Times,serif\" font-size=\"14.00\" fill=\"#000000\">ROOT</text>\n</g>\n<!-- 2 -->\n<g id=\"node3\" class=\"node\">\n<title>2</title>\n<text text-anchor=\"middle\" x=\"53.5\" y=\"-275.3\" font-family=\"Times,serif\" font-size=\"14.00\" fill=\"#000000\">2 (развития)</text>\n</g>\n<!-- 1&#45;&gt;2 -->\n<g id=\"edge2\" class=\"edge\">\n<title>1&#45;&gt;2</title>\n<path fill=\"none\" stroke=\"#000000\" d=\"M89.176,-347.9735C82.9009,-335.8418 74.5148,-319.6287 67.4499,-305.9698\"/>\n<polygon fill=\"#000000\" stroke=\"#000000\" points=\"70.5151,-304.2776 62.8121,-297.0034 64.2976,-307.4935 70.5151,-304.2776\"/>\n<text text-anchor=\"middle\" x=\"96.5\" y=\"-318.8\" font-family=\"Times,serif\" font-size=\"14.00\" fill=\"#000000\">nmod</text>\n</g>\n<!-- 6 -->\n<g id=\"node4\" class=\"node\">\n<title>6</title>\n<text text-anchor=\"middle\" x=\"144.5\" y=\"-275.3\" font-family=\"Times,serif\" font-size=\"14.00\" fill=\"#000000\">6 (.)</text>\n</g>\n<!-- 1&#45;&gt;6 -->\n<g id=\"edge3\" class=\"edge\">\n<title>1&#45;&gt;6</title>\n<path fill=\"none\" stroke=\"#000000\" d=\"M108.0312,-347.9735C114.4457,-335.8418 123.0182,-319.6287 130.2401,-305.9698\"/>\n<polygon fill=\"#000000\" stroke=\"#000000\" points=\"133.4008,-307.4797 134.981,-297.0034 127.2126,-304.2077 133.4008,-307.4797\"/>\n<text text-anchor=\"middle\" x=\"140\" y=\"-318.8\" font-family=\"Times,serif\" font-size=\"14.00\" fill=\"#000000\">punct</text>\n</g>\n<!-- 3 -->\n<g id=\"node5\" class=\"node\">\n<title>3</title>\n<text text-anchor=\"middle\" x=\"53.5\" y=\"-188.3\" font-family=\"Times,serif\" font-size=\"14.00\" fill=\"#000000\">3 (сферы)</text>\n</g>\n<!-- 2&#45;&gt;3 -->\n<g id=\"edge4\" class=\"edge\">\n<title>2&#45;&gt;3</title>\n<path fill=\"none\" stroke=\"#000000\" d=\"M53.5,-260.9735C53.5,-249.1918 53.5,-233.5607 53.5,-220.1581\"/>\n<polygon fill=\"#000000\" stroke=\"#000000\" points=\"57.0001,-220.0033 53.5,-210.0034 50.0001,-220.0034 57.0001,-220.0033\"/>\n<text text-anchor=\"middle\" x=\"70.5\" y=\"-231.8\" font-family=\"Times,serif\" font-size=\"14.00\" fill=\"#000000\">nmod</text>\n</g>\n<!-- 5 -->\n<g id=\"node6\" class=\"node\">\n<title>5</title>\n<text text-anchor=\"middle\" x=\"53.5\" y=\"-101.3\" font-family=\"Times,serif\" font-size=\"14.00\" fill=\"#000000\">5 (технологий)</text>\n</g>\n<!-- 3&#45;&gt;5 -->\n<g id=\"edge5\" class=\"edge\">\n<title>3&#45;&gt;5</title>\n<path fill=\"none\" stroke=\"#000000\" d=\"M53.5,-173.9735C53.5,-162.1918 53.5,-146.5607 53.5,-133.1581\"/>\n<polygon fill=\"#000000\" stroke=\"#000000\" points=\"57.0001,-133.0033 53.5,-123.0034 50.0001,-133.0034 57.0001,-133.0033\"/>\n<text text-anchor=\"middle\" x=\"70.5\" y=\"-144.8\" font-family=\"Times,serif\" font-size=\"14.00\" fill=\"#000000\">nmod</text>\n</g>\n<!-- 4 -->\n<g id=\"node7\" class=\"node\">\n<title>4</title>\n<text text-anchor=\"middle\" x=\"53.5\" y=\"-14.3\" font-family=\"Times,serif\" font-size=\"14.00\" fill=\"#000000\">4 (высоких)</text>\n</g>\n<!-- 5&#45;&gt;4 -->\n<g id=\"edge6\" class=\"edge\">\n<title>5&#45;&gt;4</title>\n<path fill=\"none\" stroke=\"#000000\" d=\"M53.5,-86.9735C53.5,-75.1918 53.5,-59.5607 53.5,-46.1581\"/>\n<polygon fill=\"#000000\" stroke=\"#000000\" points=\"57.0001,-46.0033 53.5,-36.0034 50.0001,-46.0034 57.0001,-46.0033\"/>\n<text text-anchor=\"middle\" x=\"70\" y=\"-57.8\" font-family=\"Times,serif\" font-size=\"14.00\" fill=\"#000000\">amod</text>\n</g>\n</g>\n</svg>\n"
          },
          "metadata": {
            "tags": []
          },
          "execution_count": 9
        }
      ]
    },
    {
      "cell_type": "code",
      "metadata": {
        "id": "ko5mgL3ObOJG",
        "colab": {
          "base_uri": "https://localhost:8080/"
        },
        "outputId": "6e978cb6-a1c7-4b0d-db98-02ba89ca9a3a"
      },
      "source": [
        "# graph.nodes - словарь, но ключи в нем позиции, \n",
        "# так что итерироваться можно с помощью\n",
        "# for i in range(len(graph.nodes)):\n",
        "for position, data in graph.nodes.items():\n",
        "  print(f\"Position = {position}\\nnode data = {data}\")\n",
        "print(f'\\n\\nMore readable\\n\\n')\n",
        "graph.nodes"
      ],
      "execution_count": 10,
      "outputs": [
        {
          "output_type": "stream",
          "text": [
            "Position = 0\n",
            "node data = {'address': 0, 'word': None, 'lemma': None, 'ctag': 'TOP', 'tag': 'TOP', 'feats': None, 'head': None, 'deps': defaultdict(<class 'list'>, {'ROOT': [1]}), 'rel': None}\n",
            "Position = 1\n",
            "node data = {'address': 1, 'word': 'Перспективы', 'lemma': 'перспектива', 'ctag': 'NOUN', 'tag': '_', 'feats': 'Animacy=Inan|Case=Nom|Gender=Fem|Number=Plur', 'head': 0, 'deps': defaultdict(<class 'list'>, {'nmod': [2], 'punct': [6]}), 'rel': 'ROOT'}\n",
            "Position = 2\n",
            "node data = {'address': 2, 'word': 'развития', 'lemma': 'развитие', 'ctag': 'NOUN', 'tag': '_', 'feats': 'Animacy=Inan|Case=Gen|Gender=Neut|Number=Sing', 'head': 1, 'deps': defaultdict(<class 'list'>, {'nmod': [3]}), 'rel': 'nmod'}\n",
            "Position = 3\n",
            "node data = {'address': 3, 'word': 'сферы', 'lemma': 'сфера', 'ctag': 'NOUN', 'tag': '_', 'feats': 'Animacy=Inan|Case=Gen|Gender=Fem|Number=Sing', 'head': 2, 'deps': defaultdict(<class 'list'>, {'nmod': [5]}), 'rel': 'nmod'}\n",
            "Position = 4\n",
            "node data = {'address': 4, 'word': 'высоких', 'lemma': 'высокий', 'ctag': 'ADJ', 'tag': '_', 'feats': 'Case=Gen|Degree=Pos|Number=Plur', 'head': 5, 'deps': defaultdict(<class 'list'>, {}), 'rel': 'amod'}\n",
            "Position = 5\n",
            "node data = {'address': 5, 'word': 'технологий', 'lemma': 'технология', 'ctag': 'NOUN', 'tag': '_', 'feats': 'Animacy=Inan|Case=Gen|Gender=Fem|Number=Plur', 'head': 3, 'deps': defaultdict(<class 'list'>, {'amod': [4]}), 'rel': 'nmod'}\n",
            "Position = 6\n",
            "node data = {'address': 6, 'word': '.', 'lemma': '.', 'ctag': 'PUNCT', 'tag': '_', 'feats': '_', 'head': 1, 'deps': defaultdict(<class 'list'>, {}), 'rel': 'punct'}\n",
            "\n",
            "\n",
            "More readable\n",
            "\n",
            "\n"
          ],
          "name": "stdout"
        },
        {
          "output_type": "execute_result",
          "data": {
            "text/plain": [
              "defaultdict(<function nltk.parse.dependencygraph.DependencyGraph.__init__.<locals>.<lambda>>,\n",
              "            {0: {'address': 0,\n",
              "              'ctag': 'TOP',\n",
              "              'deps': defaultdict(list, {'ROOT': [1]}),\n",
              "              'feats': None,\n",
              "              'head': None,\n",
              "              'lemma': None,\n",
              "              'rel': None,\n",
              "              'tag': 'TOP',\n",
              "              'word': None},\n",
              "             1: {'address': 1,\n",
              "              'ctag': 'NOUN',\n",
              "              'deps': defaultdict(list, {'nmod': [2], 'punct': [6]}),\n",
              "              'feats': 'Animacy=Inan|Case=Nom|Gender=Fem|Number=Plur',\n",
              "              'head': 0,\n",
              "              'lemma': 'перспектива',\n",
              "              'rel': 'ROOT',\n",
              "              'tag': '_',\n",
              "              'word': 'Перспективы'},\n",
              "             2: {'address': 2,\n",
              "              'ctag': 'NOUN',\n",
              "              'deps': defaultdict(list, {'nmod': [3]}),\n",
              "              'feats': 'Animacy=Inan|Case=Gen|Gender=Neut|Number=Sing',\n",
              "              'head': 1,\n",
              "              'lemma': 'развитие',\n",
              "              'rel': 'nmod',\n",
              "              'tag': '_',\n",
              "              'word': 'развития'},\n",
              "             3: {'address': 3,\n",
              "              'ctag': 'NOUN',\n",
              "              'deps': defaultdict(list, {'nmod': [5]}),\n",
              "              'feats': 'Animacy=Inan|Case=Gen|Gender=Fem|Number=Sing',\n",
              "              'head': 2,\n",
              "              'lemma': 'сфера',\n",
              "              'rel': 'nmod',\n",
              "              'tag': '_',\n",
              "              'word': 'сферы'},\n",
              "             4: {'address': 4,\n",
              "              'ctag': 'ADJ',\n",
              "              'deps': defaultdict(list, {}),\n",
              "              'feats': 'Case=Gen|Degree=Pos|Number=Plur',\n",
              "              'head': 5,\n",
              "              'lemma': 'высокий',\n",
              "              'rel': 'amod',\n",
              "              'tag': '_',\n",
              "              'word': 'высоких'},\n",
              "             5: {'address': 5,\n",
              "              'ctag': 'NOUN',\n",
              "              'deps': defaultdict(list, {'amod': [4]}),\n",
              "              'feats': 'Animacy=Inan|Case=Gen|Gender=Fem|Number=Plur',\n",
              "              'head': 3,\n",
              "              'lemma': 'технология',\n",
              "              'rel': 'nmod',\n",
              "              'tag': '_',\n",
              "              'word': 'технологий'},\n",
              "             6: {'address': 6,\n",
              "              'ctag': 'PUNCT',\n",
              "              'deps': defaultdict(list, {}),\n",
              "              'feats': '_',\n",
              "              'head': 1,\n",
              "              'lemma': '.',\n",
              "              'rel': 'punct',\n",
              "              'tag': '_',\n",
              "              'word': '.'}})"
            ]
          },
          "metadata": {
            "tags": []
          },
          "execution_count": 10
        }
      ]
    },
    {
      "cell_type": "code",
      "metadata": {
        "id": "Ts4Nhj72snn8",
        "colab": {
          "base_uri": "https://localhost:8080/"
        },
        "outputId": "486e97be-c488-4a44-acf1-69e81aa1500f"
      },
      "source": [
        "# pretty_print на случай, если отключили graphviz за неуплату.\n",
        "tree = graph.tree()\n",
        "print(tree.pretty_print())"
      ],
      "execution_count": 11,
      "outputs": [
        {
          "output_type": "stream",
          "text": [
            "    Перспективы           \n",
            "  _______|__________       \n",
            " |               развития \n",
            " |                  |      \n",
            " |                сферы   \n",
            " |                  |      \n",
            " |              технологий\n",
            " |                  |      \n",
            " .               высоких  \n",
            "\n",
            "None\n"
          ],
          "name": "stdout"
        }
      ]
    },
    {
      "cell_type": "markdown",
      "metadata": {
        "id": "QoPms9fHsnn-"
      },
      "source": [
        "## UDPipe\n",
        "\n",
        "Есть разные инструменты для парсинга зависимостей. Сегодня мы будем рабтать с [UDPipe](http://ufal.mff.cuni.cz/udpipe). UDPipe умеет парсить текст с помощью готовых моделей (которые можно скачать [здесь](https://github.com/jwijffels/udpipe.models.ud.2.0/tree/master/inst/udpipe-ud-2.0-170801)) и обучать модели на своих трибанках.\n",
        "\n",
        "Собственно, в UDPipe есть три вида моделей:\n",
        "* токенизатор (разделить предложение на токены, сделать заготовку для CoNLL-U)\n",
        "* тэггер (разметить части речи)\n",
        "* сам парсер (проставить каждому токену `head` и `deprel`)\n",
        "\n",
        "Мы сегодня не будем обучать новых моделей (это слишком долго), а используем готовую модель для русского."
      ]
    },
    {
      "cell_type": "markdown",
      "metadata": {
        "id": "GItYn9N4snn_"
      },
      "source": [
        "### The Python binding\n",
        "\n",
        "У udpipe есть питоновская обвязка. Она довольно [плохо задокументирована](https://pypi.org/project/ufal.udpipe/), но зато можно использовать прямо в питоне :)"
      ]
    },
    {
      "cell_type": "code",
      "metadata": {
        "id": "8il0sbFvsnoA"
      },
      "source": [
        "from ufal.udpipe import Model, Pipeline"
      ],
      "execution_count": 12,
      "outputs": []
    },
    {
      "cell_type": "code",
      "metadata": {
        "id": "o9zZEEEesnoC"
      },
      "source": [
        "model = Model.load(\"russian-ud-2.0-170801.udpipe\") # path to the model\n",
        "assert model is not None, \"Model failed to load\""
      ],
      "execution_count": 13,
      "outputs": []
    },
    {
      "cell_type": "code",
      "metadata": {
        "id": "kyuSL_TqsnoG",
        "colab": {
          "base_uri": "https://localhost:8080/"
        },
        "outputId": "e9bac0c7-fa00-4eca-af73-a5f9d94c2a1e"
      },
      "source": [
        "# Pipeline(const Model* m, const string& input, const string& tagger, const string& parser, const string& output);\n",
        "pipeline = Pipeline(model, 'generic_tokenizer', '', '', '')\n",
        "example = \"Если бы мне платили каждый раз. Каждый раз, когда я думаю о тебе.\"\n",
        "parsed = pipeline.process(example)\n",
        "print(parsed)"
      ],
      "execution_count": 14,
      "outputs": [
        {
          "output_type": "stream",
          "text": [
            "# newdoc\n",
            "# newpar\n",
            "# sent_id = 1\n",
            "# text = Если бы мне платили каждый раз.\n",
            "1\tЕсли\tЕСЛИ\tSCONJ\tIN\t_\t4\tmark\t_\t_\n",
            "2\tбы\tБЫ\tPART\tRP\t_\t4\tdiscourse\t_\t_\n",
            "3\tмне\tЯ\tPRON\tPRP\tCase=Dat|Number=Sing|Person=1\t4\tiobj\t_\t_\n",
            "4\tплатили\tПЛАТИТЬ\tVERB\tVBC\tAspect=Imp|Mood=Ind|Number=Plur|Tense=Past|VerbForm=Fin\t0\troot\t_\t_\n",
            "5\tкаждый\tКАЖДЫЙ\tDET\tDT\tAnimacy=Inan|Case=Acc|Gender=Masc|Number=Sing\t6\tamod\t_\t_\n",
            "6\tраз\tРАЗ\tNOUN\tNN\tAnimacy=Inan|Case=Acc|Gender=Masc|Number=Sing\t4\tadvmod\t_\tSpaceAfter=No\n",
            "7\t.\t.\tPUNCT\t.\t_\t4\tpunct\t_\t_\n",
            "\n",
            "# sent_id = 2\n",
            "# text = Каждый раз, когда я думаю о тебе.\n",
            "1\tКаждый\tКАЖДЫЙ\tDET\tDT\tAnimacy=Inan|Case=Acc|Gender=Masc|Number=Sing\t2\tamod\t_\t_\n",
            "2\tраз\tРАЗ\tNOUN\tNN\tAnimacy=Inan|Case=Acc|Gender=Masc|Number=Sing\t6\tadvmod\t_\tSpaceAfter=No\n",
            "3\t,\t,\tPUNCT\t,\t_\t6\tpunct\t_\t_\n",
            "4\tкогда\tКОГДА\tADV\tWRB\t_\t6\tadvmod\t_\t_\n",
            "5\tя\tЯ\tPRON\tPRP\tCase=Nom|Number=Sing|Person=1\t6\tnsubj\t_\t_\n",
            "6\tдумаю\tдУМАТЬ\tVERB\tVBC\tAspect=Imp|Mood=Ind|Number=Sing|Person=1|Tense=Pres|VerbForm=Fin\t0\troot\t_\t_\n",
            "7\tо\tО\tADP\tIN\t_\t8\tcase\t_\t_\n",
            "8\tтебе\tТЫ\tPRON\tPRP\tCase=Dat|Number=Sing|Person=2\t6\tobl\t_\tSpaceAfter=No\n",
            "9\t.\t.\tPUNCT\t.\t_\t6\tpunct\t_\tSpacesAfter=\\n\n",
            "\n",
            "\n"
          ],
          "name": "stdout"
        }
      ]
    },
    {
      "cell_type": "markdown",
      "metadata": {
        "id": "zydacPOrsnoJ"
      },
      "source": [
        "Как видим, UDPipe и токенизировал, и лематизировал текст, сделал POS-tagging и, собственно, синтаксический парсинг."
      ]
    },
    {
      "cell_type": "markdown",
      "metadata": {
        "id": "S_wyutM4snoK"
      },
      "source": [
        "### Command line interface\n",
        "\n",
        "Но с обвязкой бывают проблемы, и вообще довольно удобно пользоваться прекомпилированной утилитой `udpipe` из шелла. Она скачивается [здесь](https://github.com/ufal/udpipe/releases/tag/v1.2.0): (надеюсь, вы уже скачали всё заранее) (Если вы используете ноутбук из колаба, все уже скачано и распаковано. В противном случае стоит скачать архив и найти нужный бинарь для своей ОС). <br>Внутри бинарники для всех популярных ОС, выбираем свою.\n",
        "\n",
        "Синтаксис:"
      ]
    },
    {
      "cell_type": "code",
      "metadata": {
        "id": "aU2TA7hcAspE",
        "colab": {
          "base_uri": "https://localhost:8080/"
        },
        "outputId": "05188321-5c00-4990-c793-e28429dbe8eb"
      },
      "source": [
        "! ./udpipe"
      ],
      "execution_count": 15,
      "outputs": [
        {
          "output_type": "stream",
          "text": [
            "Usage: ./udpipe [running_opts] model_file [input_files]\n",
            "       ./udpipe --train [training_opts] model_file [input_files]\n",
            "       ./udpipe --detokenize [detokenize_opts] raw_text_file [input_files]\n",
            "Running opts: --accuracy (measure accuracy only)\n",
            "              --input=[conllu|generic_tokenizer|horizontal|vertical]\n",
            "              --immediate (process sentences immediately during loading)\n",
            "              --outfile=output file template\n",
            "              --output=[conllu|epe|matxin|horizontal|plaintext|vertical]\n",
            "              --tokenize (perform tokenization)\n",
            "              --tokenizer=tokenizer options, implies --tokenize\n",
            "              --tag (perform tagging)\n",
            "              --tagger=tagger options, implies --tag\n",
            "              --parse (perform parsing)\n",
            "              --parser=parser options, implies --parse\n",
            "Training opts: --method=[morphodita_parsito] which method to use\n",
            "               --heldout=heldout data file name\n",
            "               --tokenizer=tokenizer options\n",
            "               --tagger=tagger options\n",
            "               --parser=parser options\n",
            "Detokenize opts: --outfile=output file template\n",
            "Generic opts: --version\n",
            "              --help\n"
          ],
          "name": "stdout"
        }
      ]
    },
    {
      "cell_type": "markdown",
      "metadata": {
        "id": "VTWjQCzGsnoM"
      },
      "source": [
        "Нас сегодня будет интересовать только парсинг, так что типичная команда будет выглядеть так:"
      ]
    },
    {
      "cell_type": "code",
      "metadata": {
        "id": "eDHdDoCnsnoN",
        "colab": {
          "base_uri": "https://localhost:8080/"
        },
        "outputId": "9a655df4-cfbc-4a37-e18d-165b56366cf3"
      },
      "source": [
        "with open('example.txt', 'w') as f:\n",
        "    f.write(example)\n",
        "\n",
        "! cat example.txt\n",
        "! ./udpipe --tokenize --tag --parse russian-ud-2.0-170801.udpipe example.txt > parsed_example.conllu\n",
        "! echo\n",
        "! echo ---------------------- Parsing finished ----------------------\n",
        "! echo\n",
        "! cat parsed_example.conllu"
      ],
      "execution_count": 16,
      "outputs": [
        {
          "output_type": "stream",
          "text": [
            "Если бы мне платили каждый раз. Каждый раз, когда я думаю о тебе.Loading UDPipe model: done.\n",
            "\n",
            "---------------------- Parsing finished ----------------------\n",
            "\n",
            "# newdoc id = example.txt\n",
            "# newpar\n",
            "# sent_id = 1\n",
            "# text = Если бы мне платили каждый раз.\n",
            "1\tЕсли\tЕСЛИ\tSCONJ\tIN\t_\t4\tmark\t_\t_\n",
            "2\tбы\tБЫ\tPART\tRP\t_\t4\tdiscourse\t_\t_\n",
            "3\tмне\tЯ\tPRON\tPRP\tCase=Dat|Number=Sing|Person=1\t4\tiobj\t_\t_\n",
            "4\tплатили\tПЛАТИТЬ\tVERB\tVBC\tAspect=Imp|Mood=Ind|Number=Plur|Tense=Past|VerbForm=Fin\t0\troot\t_\t_\n",
            "5\tкаждый\tКАЖДЫЙ\tDET\tDT\tAnimacy=Inan|Case=Acc|Gender=Masc|Number=Sing\t6\tamod\t_\t_\n",
            "6\tраз\tРАЗ\tNOUN\tNN\tAnimacy=Inan|Case=Acc|Gender=Masc|Number=Sing\t4\tadvmod\t_\tSpaceAfter=No\n",
            "7\t.\t.\tPUNCT\t.\t_\t4\tpunct\t_\t_\n",
            "\n",
            "# sent_id = 2\n",
            "# text = Каждый раз, когда я думаю о тебе.\n",
            "1\tКаждый\tКАЖДЫЙ\tDET\tDT\tAnimacy=Inan|Case=Acc|Gender=Masc|Number=Sing\t2\tamod\t_\t_\n",
            "2\tраз\tРАЗ\tNOUN\tNN\tAnimacy=Inan|Case=Acc|Gender=Masc|Number=Sing\t6\tadvmod\t_\tSpaceAfter=No\n",
            "3\t,\t,\tPUNCT\t,\t_\t6\tpunct\t_\t_\n",
            "4\tкогда\tКОГДА\tADV\tWRB\t_\t6\tadvmod\t_\t_\n",
            "5\tя\tЯ\tPRON\tPRP\tCase=Nom|Number=Sing|Person=1\t6\tnsubj\t_\t_\n",
            "6\tдумаю\tдУМАТЬ\tVERB\tVBC\tAspect=Imp|Mood=Ind|Number=Sing|Person=1|Tense=Pres|VerbForm=Fin\t0\troot\t_\t_\n",
            "7\tо\tО\tADP\tIN\t_\t8\tcase\t_\t_\n",
            "8\tтебе\tТЫ\tPRON\tPRP\tCase=Dat|Number=Sing|Person=2\t6\tobl\t_\tSpaceAfter=No\n",
            "9\t.\t.\tPUNCT\t.\t_\t6\tpunct\t_\tSpacesAfter=\\n\n",
            "\n"
          ],
          "name": "stdout"
        }
      ]
    },
    {
      "cell_type": "markdown",
      "metadata": {
        "id": "y3ipeF-XsnoO"
      },
      "source": [
        "(Ну а потом снова считываем проанализированные предложения питоном).\n",
        "\n",
        "Вот два способа работать с UDPipe. Choose your fighter! "
      ]
    },
    {
      "cell_type": "markdown",
      "metadata": {
        "id": "NpqmzgomsnoP"
      },
      "source": [
        "## Главред\n",
        "\n",
        "Главред -- [сервис](https://glvrd.ru/) для корекции стиля текста. Кроме интерфейса, у него есть [API](https://glvrd.ru/api/)!<br>\n",
        "На этом семинаре мы имплементируем несколько функций, делающих нечто похожее, на основе синтаксиса.\n",
        "\n",
        "Возьмём простой пример: предложение, перегруженное однородными членами."
      ]
    },
    {
      "cell_type": "code",
      "metadata": {
        "id": "J3twEJoWsnoP",
        "colab": {
          "base_uri": "https://localhost:8080/"
        },
        "outputId": "8015dbbc-7440-4656-b8d4-a8febc64affd"
      },
      "source": [
        "conj = 'Я пришла, включила компьютер, открыла почту, прочитала письмо, налила чай.'\n",
        "print(pipeline.process(conj))"
      ],
      "execution_count": 17,
      "outputs": [
        {
          "output_type": "stream",
          "text": [
            "# newdoc\n",
            "# newpar\n",
            "# sent_id = 1\n",
            "# text = Я пришла, включила компьютер, открыла почту, прочитала письмо, налила чай.\n",
            "1\tЯ\tЯ\tPRON\tPRP\tCase=Nom|Number=Sing|Person=1\t2\tnsubj\t_\t_\n",
            "2\tпришла\tприИДТИ\tVERB\tVBC\tAspect=Perf|Gender=Fem|Mood=Ind|Number=Sing|Tense=Past|VerbForm=Fin\t0\troot\t_\tSpaceAfter=No\n",
            "3\t,\t,\tPUNCT\t,\t_\t4\tpunct\t_\t_\n",
            "4\tвключила\tвключила\tVERB\tVBC\tAspect=Perf|Gender=Fem|Mood=Ind|Number=Sing|Tense=Past|VerbForm=Fin\t2\tconj\t_\t_\n",
            "5\tкомпьютер\tкомпьютер\tNOUN\tNN\tAnimacy=Anim|Case=Gen|Gender=Fem|Number=Plur\t4\tobj\t_\tSpaceAfter=No\n",
            "6\t,\t,\tPUNCT\t,\t_\t7\tpunct\t_\t_\n",
            "7\tоткрыла\tоткрЫТЬ\tVERB\tVBC\tAspect=Imp|Gender=Fem|Mood=Ind|Number=Sing|Tense=Past|VerbForm=Fin\t4\tconj\t_\t_\n",
            "8\tпочту\tпочТОТ\tNOUN\tNN\tAnimacy=Inan|Case=Acc|Gender=Fem|Number=Sing\t7\tobj\t_\tSpaceAfter=No\n",
            "9\t,\t,\tPUNCT\t,\t_\t10\tpunct\t_\t_\n",
            "10\tпрочитала\tпрочитала\tVERB\tVBC\tAspect=Imp|Gender=Fem|Mood=Ind|Number=Sing|Tense=Past|VerbForm=Fin\t2\tconj\t_\t_\n",
            "11\tписьмо\tПИСЬМО\tNOUN\tNN\tAnimacy=Inan|Case=Acc|Gender=Neut|Number=Sing\t10\tobj\t_\tSpaceAfter=No\n",
            "12\t,\t,\tPUNCT\t,\t_\t13\tpunct\t_\t_\n",
            "13\tналила\tнАЛИЛА\tVERB\tVBC\tAspect=Imp|Gender=Fem|Mood=Ind|Number=Sing|Tense=Past|VerbForm=Fin\t2\tconj\t_\t_\n",
            "14\tчай\tЧАЙ\tNOUN\tNN\tAnimacy=Inan|Case=Acc|Gender=Masc|Number=Sing\t13\tobj\t_\tSpaceAfter=No\n",
            "15\t.\t.\tPUNCT\t.\t_\t2\tpunct\t_\tSpacesAfter=\\n\n",
            "\n",
            "\n"
          ],
          "name": "stdout"
        }
      ]
    },
    {
      "cell_type": "markdown",
      "metadata": {
        "id": "8DpFJ6X9snoS"
      },
      "source": [
        "В таком случае очень много частей предложения, соединённых связью `conj` -- ей обозначаются однородные члены предложения. В таком случае можно просто посчитать количество таких связей:"
      ]
    },
    {
      "cell_type": "code",
      "metadata": {
        "id": "b0wa2CbH3IPA",
        "colab": {
          "base_uri": "https://localhost:8080/",
          "height": 544
        },
        "outputId": "2c66abcf-5904-41ac-9357-c3c51ec69f52"
      },
      "source": [
        "conllu = pipeline.process(conj)\n",
        "graph = parse_to_graph(conllu)\n",
        "graph"
      ],
      "execution_count": 18,
      "outputs": [
        {
          "output_type": "execute_result",
          "data": {
            "text/plain": [
              "<DependencyGraph with 16 nodes>"
            ],
            "image/svg+xml": "<?xml version=\"1.0\" encoding=\"UTF-8\" standalone=\"no\"?>\n<!DOCTYPE svg PUBLIC \"-//W3C//DTD SVG 1.1//EN\"\n \"http://www.w3.org/Graphics/SVG/1.1/DTD/svg11.dtd\">\n<!-- Generated by graphviz version 2.40.1 (20161225.0304)\n -->\n<!-- Title: G Pages: 1 -->\n<svg width=\"624pt\" height=\"392pt\"\n viewBox=\"0.00 0.00 623.50 392.00\" xmlns=\"http://www.w3.org/2000/svg\" xmlns:xlink=\"http://www.w3.org/1999/xlink\">\n<g id=\"graph0\" class=\"graph\" transform=\"scale(1 1) rotate(0) translate(4 388)\">\n<title>G</title>\n<polygon fill=\"#ffffff\" stroke=\"transparent\" points=\"-4,4 -4,-388 619.5,-388 619.5,4 -4,4\"/>\n<!-- 0 -->\n<g id=\"node1\" class=\"node\">\n<title>0</title>\n<text text-anchor=\"middle\" x=\"374\" y=\"-362.3\" font-family=\"Times,serif\" font-size=\"14.00\" fill=\"#000000\">0 (None)</text>\n</g>\n<!-- 2 -->\n<g id=\"node2\" class=\"node\">\n<title>2</title>\n<text text-anchor=\"middle\" x=\"374\" y=\"-275.3\" font-family=\"Times,serif\" font-size=\"14.00\" fill=\"#000000\">2 (пришла)</text>\n</g>\n<!-- 0&#45;&gt;2 -->\n<g id=\"edge1\" class=\"edge\">\n<title>0&#45;&gt;2</title>\n<path fill=\"none\" stroke=\"#000000\" d=\"M374,-347.9735C374,-336.1918 374,-320.5607 374,-307.1581\"/>\n<polygon fill=\"#000000\" stroke=\"#000000\" points=\"377.5001,-307.0033 374,-297.0034 370.5001,-307.0034 377.5001,-307.0033\"/>\n<text text-anchor=\"middle\" x=\"394\" y=\"-318.8\" font-family=\"Times,serif\" font-size=\"14.00\" fill=\"#000000\">ROOT</text>\n</g>\n<!-- 1 -->\n<g id=\"node3\" class=\"node\">\n<title>1</title>\n<text text-anchor=\"middle\" x=\"145\" y=\"-188.3\" font-family=\"Times,serif\" font-size=\"14.00\" fill=\"#000000\">1 (Я)</text>\n</g>\n<!-- 2&#45;&gt;1 -->\n<g id=\"edge2\" class=\"edge\">\n<title>2&#45;&gt;1</title>\n<path fill=\"none\" stroke=\"#000000\" d=\"M332.2576,-266.4096C311.081,-259.8135 285.0321,-251.3796 262,-243 228.1808,-230.6958 217.9066,-226.6355 181.3454,-210.0336\"/>\n<polygon fill=\"#000000\" stroke=\"#000000\" points=\"182.5712,-206.7461 172.0197,-205.7883 179.6709,-213.117 182.5712,-206.7461\"/>\n<text text-anchor=\"middle\" x=\"278\" y=\"-231.8\" font-family=\"Times,serif\" font-size=\"14.00\" fill=\"#000000\">nsubj</text>\n</g>\n<!-- 4 -->\n<g id=\"node4\" class=\"node\">\n<title>4</title>\n<text text-anchor=\"middle\" x=\"238\" y=\"-188.3\" font-family=\"Times,serif\" font-size=\"14.00\" fill=\"#000000\">4 (включила)</text>\n</g>\n<!-- 2&#45;&gt;4 -->\n<g id=\"edge3\" class=\"edge\">\n<title>2&#45;&gt;4</title>\n<path fill=\"none\" stroke=\"#000000\" d=\"M345.8207,-260.9735C325.215,-247.792 297.0771,-229.792 274.7129,-215.4855\"/>\n<polygon fill=\"#000000\" stroke=\"#000000\" points=\"276.4531,-212.4438 266.1432,-210.0034 272.681,-218.3405 276.4531,-212.4438\"/>\n<text text-anchor=\"middle\" x=\"327.5\" y=\"-231.8\" font-family=\"Times,serif\" font-size=\"14.00\" fill=\"#000000\">conj</text>\n</g>\n<!-- 10 -->\n<g id=\"node5\" class=\"node\">\n<title>10</title>\n<text text-anchor=\"middle\" x=\"374\" y=\"-188.3\" font-family=\"Times,serif\" font-size=\"14.00\" fill=\"#000000\">10 (прочитала)</text>\n</g>\n<!-- 2&#45;&gt;10 -->\n<g id=\"edge4\" class=\"edge\">\n<title>2&#45;&gt;10</title>\n<path fill=\"none\" stroke=\"#000000\" d=\"M374,-260.9735C374,-249.1918 374,-233.5607 374,-220.1581\"/>\n<polygon fill=\"#000000\" stroke=\"#000000\" points=\"377.5001,-220.0033 374,-210.0034 370.5001,-220.0034 377.5001,-220.0033\"/>\n<text text-anchor=\"middle\" x=\"386.5\" y=\"-231.8\" font-family=\"Times,serif\" font-size=\"14.00\" fill=\"#000000\">conj</text>\n</g>\n<!-- 13 -->\n<g id=\"node6\" class=\"node\">\n<title>13</title>\n<text text-anchor=\"middle\" x=\"496\" y=\"-188.3\" font-family=\"Times,serif\" font-size=\"14.00\" fill=\"#000000\">13 (налила)</text>\n</g>\n<!-- 2&#45;&gt;13 -->\n<g id=\"edge5\" class=\"edge\">\n<title>2&#45;&gt;13</title>\n<path fill=\"none\" stroke=\"#000000\" d=\"M399.2785,-260.9735C417.5994,-247.9086 442.5581,-230.1102 462.5325,-215.8662\"/>\n<polygon fill=\"#000000\" stroke=\"#000000\" points=\"464.6442,-218.6591 470.7539,-210.0034 460.5799,-212.9598 464.6442,-218.6591\"/>\n<text text-anchor=\"middle\" x=\"455.5\" y=\"-231.8\" font-family=\"Times,serif\" font-size=\"14.00\" fill=\"#000000\">conj</text>\n</g>\n<!-- 15 -->\n<g id=\"node7\" class=\"node\">\n<title>15</title>\n<text text-anchor=\"middle\" x=\"584\" y=\"-188.3\" font-family=\"Times,serif\" font-size=\"14.00\" fill=\"#000000\">15 (.)</text>\n</g>\n<!-- 2&#45;&gt;15 -->\n<g id=\"edge6\" class=\"edge\">\n<title>2&#45;&gt;15</title>\n<path fill=\"none\" stroke=\"#000000\" d=\"M415.7049,-264.33C433.1904,-258.0114 453.6766,-250.3883 472,-243 505.7751,-229.3814 513.9534,-225.3018 547,-210 547.3039,-209.8593 547.609,-209.7177 547.9152,-209.5753\"/>\n<polygon fill=\"#000000\" stroke=\"#000000\" points=\"549.4326,-212.7295 556.9791,-205.293 546.4422,-206.4003 549.4326,-212.7295\"/>\n<text text-anchor=\"middle\" x=\"524.5\" y=\"-231.8\" font-family=\"Times,serif\" font-size=\"14.00\" fill=\"#000000\">punct</text>\n</g>\n<!-- 3 -->\n<g id=\"node8\" class=\"node\">\n<title>3</title>\n<text text-anchor=\"middle\" x=\"27\" y=\"-101.3\" font-family=\"Times,serif\" font-size=\"14.00\" fill=\"#000000\">3 (,)</text>\n</g>\n<!-- 4&#45;&gt;3 -->\n<g id=\"edge7\" class=\"edge\">\n<title>4&#45;&gt;3</title>\n<path fill=\"none\" stroke=\"#000000\" d=\"M190.4398,-175.6334C173.7626,-169.6954 154.964,-162.7763 138,-156 106.823,-143.5464 97.4033,-139.1657 63.2903,-123.0649\"/>\n<polygon fill=\"#000000\" stroke=\"#000000\" points=\"64.5945,-119.8102 54.0572,-118.7069 61.6066,-126.1405 64.5945,-119.8102\"/>\n<text text-anchor=\"middle\" x=\"154.5\" y=\"-144.8\" font-family=\"Times,serif\" font-size=\"14.00\" fill=\"#000000\">punct</text>\n</g>\n<!-- 5 -->\n<g id=\"node9\" class=\"node\">\n<title>5</title>\n<text text-anchor=\"middle\" x=\"124\" y=\"-101.3\" font-family=\"Times,serif\" font-size=\"14.00\" fill=\"#000000\">5 (компьютер)</text>\n</g>\n<!-- 4&#45;&gt;5 -->\n<g id=\"edge8\" class=\"edge\">\n<title>4&#45;&gt;5</title>\n<path fill=\"none\" stroke=\"#000000\" d=\"M214.3791,-173.9735C197.4124,-161.0253 174.3535,-143.4276 155.774,-129.2485\"/>\n<polygon fill=\"#000000\" stroke=\"#000000\" points=\"157.6635,-126.2878 147.5906,-123.0034 153.4168,-131.8525 157.6635,-126.2878\"/>\n<text text-anchor=\"middle\" x=\"197.5\" y=\"-144.8\" font-family=\"Times,serif\" font-size=\"14.00\" fill=\"#000000\">obj</text>\n</g>\n<!-- 7 -->\n<g id=\"node10\" class=\"node\">\n<title>7</title>\n<text text-anchor=\"middle\" x=\"238\" y=\"-101.3\" font-family=\"Times,serif\" font-size=\"14.00\" fill=\"#000000\">7 (открыла)</text>\n</g>\n<!-- 4&#45;&gt;7 -->\n<g id=\"edge9\" class=\"edge\">\n<title>4&#45;&gt;7</title>\n<path fill=\"none\" stroke=\"#000000\" d=\"M238,-173.9735C238,-162.1918 238,-146.5607 238,-133.1581\"/>\n<polygon fill=\"#000000\" stroke=\"#000000\" points=\"241.5001,-133.0033 238,-123.0034 234.5001,-133.0034 241.5001,-133.0033\"/>\n<text text-anchor=\"middle\" x=\"250.5\" y=\"-144.8\" font-family=\"Times,serif\" font-size=\"14.00\" fill=\"#000000\">conj</text>\n</g>\n<!-- 9 -->\n<g id=\"node13\" class=\"node\">\n<title>9</title>\n<text text-anchor=\"middle\" x=\"327\" y=\"-101.3\" font-family=\"Times,serif\" font-size=\"14.00\" fill=\"#000000\">9 (,)</text>\n</g>\n<!-- 10&#45;&gt;9 -->\n<g id=\"edge12\" class=\"edge\">\n<title>10&#45;&gt;9</title>\n<path fill=\"none\" stroke=\"#000000\" d=\"M364.2616,-173.9735C357.7077,-161.8418 348.9488,-145.6287 341.5699,-131.9698\"/>\n<polygon fill=\"#000000\" stroke=\"#000000\" points=\"344.5584,-130.138 336.726,-123.0034 338.3997,-133.4652 344.5584,-130.138\"/>\n<text text-anchor=\"middle\" x=\"370.5\" y=\"-144.8\" font-family=\"Times,serif\" font-size=\"14.00\" fill=\"#000000\">punct</text>\n</g>\n<!-- 11 -->\n<g id=\"node14\" class=\"node\">\n<title>11</title>\n<text text-anchor=\"middle\" x=\"416\" y=\"-101.3\" font-family=\"Times,serif\" font-size=\"14.00\" fill=\"#000000\">11 (письмо)</text>\n</g>\n<!-- 10&#45;&gt;11 -->\n<g id=\"edge13\" class=\"edge\">\n<title>10&#45;&gt;11</title>\n<path fill=\"none\" stroke=\"#000000\" d=\"M382.7024,-173.9735C388.5028,-161.9585 396.2358,-145.9401 402.7895,-132.3646\"/>\n<polygon fill=\"#000000\" stroke=\"#000000\" points=\"406.1131,-133.5305 407.3087,-123.0034 399.8092,-130.4872 406.1131,-133.5305\"/>\n<text text-anchor=\"middle\" x=\"407.5\" y=\"-144.8\" font-family=\"Times,serif\" font-size=\"14.00\" fill=\"#000000\">obj</text>\n</g>\n<!-- 12 -->\n<g id=\"node15\" class=\"node\">\n<title>12</title>\n<text text-anchor=\"middle\" x=\"505\" y=\"-101.3\" font-family=\"Times,serif\" font-size=\"14.00\" fill=\"#000000\">12 (,)</text>\n</g>\n<!-- 13&#45;&gt;12 -->\n<g id=\"edge14\" class=\"edge\">\n<title>13&#45;&gt;12</title>\n<path fill=\"none\" stroke=\"#000000\" d=\"M497.8648,-173.9735C499.0836,-162.1918 500.7006,-146.5607 502.0871,-133.1581\"/>\n<polygon fill=\"#000000\" stroke=\"#000000\" points=\"505.5899,-133.3105 503.1376,-123.0034 498.6271,-132.5901 505.5899,-133.3105\"/>\n<text text-anchor=\"middle\" x=\"518.5\" y=\"-144.8\" font-family=\"Times,serif\" font-size=\"14.00\" fill=\"#000000\">punct</text>\n</g>\n<!-- 14 -->\n<g id=\"node16\" class=\"node\">\n<title>14</title>\n<text text-anchor=\"middle\" x=\"583\" y=\"-101.3\" font-family=\"Times,serif\" font-size=\"14.00\" fill=\"#000000\">14 (чай)</text>\n</g>\n<!-- 13&#45;&gt;14 -->\n<g id=\"edge15\" class=\"edge\">\n<title>13&#45;&gt;14</title>\n<path fill=\"none\" stroke=\"#000000\" d=\"M518.9194,-173.9775C525.5905,-168.4252 532.7582,-162.15 539,-156 546.9538,-148.1633 555.0955,-139.0775 562.1784,-130.7646\"/>\n<polygon fill=\"#000000\" stroke=\"#000000\" points=\"564.8633,-133.0099 568.6041,-123.0974 559.4983,-128.5136 564.8633,-133.0099\"/>\n<text text-anchor=\"middle\" x=\"563.5\" y=\"-144.8\" font-family=\"Times,serif\" font-size=\"14.00\" fill=\"#000000\">obj</text>\n</g>\n<!-- 6 -->\n<g id=\"node11\" class=\"node\">\n<title>6</title>\n<text text-anchor=\"middle\" x=\"197\" y=\"-14.3\" font-family=\"Times,serif\" font-size=\"14.00\" fill=\"#000000\">6 (,)</text>\n</g>\n<!-- 7&#45;&gt;6 -->\n<g id=\"edge10\" class=\"edge\">\n<title>7&#45;&gt;6</title>\n<path fill=\"none\" stroke=\"#000000\" d=\"M229.5048,-86.9735C223.8425,-74.9585 216.2936,-58.9401 209.8959,-45.3646\"/>\n<polygon fill=\"#000000\" stroke=\"#000000\" points=\"212.9134,-43.5571 205.4843,-36.0034 206.5813,-46.5413 212.9134,-43.5571\"/>\n<text text-anchor=\"middle\" x=\"236.5\" y=\"-57.8\" font-family=\"Times,serif\" font-size=\"14.00\" fill=\"#000000\">punct</text>\n</g>\n<!-- 8 -->\n<g id=\"node12\" class=\"node\">\n<title>8</title>\n<text text-anchor=\"middle\" x=\"279\" y=\"-14.3\" font-family=\"Times,serif\" font-size=\"14.00\" fill=\"#000000\">8 (почту)</text>\n</g>\n<!-- 7&#45;&gt;8 -->\n<g id=\"edge11\" class=\"edge\">\n<title>7&#45;&gt;8</title>\n<path fill=\"none\" stroke=\"#000000\" d=\"M247.946,-86.8268C250.9495,-81.1633 254.1929,-74.8645 257,-69 260.6299,-61.4166 264.3391,-53.0831 267.6526,-45.39\"/>\n<polygon fill=\"#000000\" stroke=\"#000000\" points=\"270.9136,-46.665 271.6022,-36.0926 264.4709,-43.928 270.9136,-46.665\"/>\n<text text-anchor=\"middle\" x=\"273.5\" y=\"-57.8\" font-family=\"Times,serif\" font-size=\"14.00\" fill=\"#000000\">obj</text>\n</g>\n</g>\n</svg>\n"
          },
          "metadata": {
            "tags": []
          },
          "execution_count": 18
        }
      ]
    },
    {
      "cell_type": "code",
      "metadata": {
        "id": "rHwBCT3Z67gH",
        "colab": {
          "base_uri": "https://localhost:8080/"
        },
        "outputId": "0c2f79e8-abfb-41bb-82aa-64ac53a88314"
      },
      "source": [
        "print(conllu)"
      ],
      "execution_count": 19,
      "outputs": [
        {
          "output_type": "stream",
          "text": [
            "# newdoc\n",
            "# newpar\n",
            "# sent_id = 1\n",
            "# text = Я пришла, включила компьютер, открыла почту, прочитала письмо, налила чай.\n",
            "1\tЯ\tЯ\tPRON\tPRP\tCase=Nom|Number=Sing|Person=1\t2\tnsubj\t_\t_\n",
            "2\tпришла\tприИДТИ\tVERB\tVBC\tAspect=Perf|Gender=Fem|Mood=Ind|Number=Sing|Tense=Past|VerbForm=Fin\t0\troot\t_\tSpaceAfter=No\n",
            "3\t,\t,\tPUNCT\t,\t_\t4\tpunct\t_\t_\n",
            "4\tвключила\tвключила\tVERB\tVBC\tAspect=Perf|Gender=Fem|Mood=Ind|Number=Sing|Tense=Past|VerbForm=Fin\t2\tconj\t_\t_\n",
            "5\tкомпьютер\tкомпьютер\tNOUN\tNN\tAnimacy=Anim|Case=Gen|Gender=Fem|Number=Plur\t4\tobj\t_\tSpaceAfter=No\n",
            "6\t,\t,\tPUNCT\t,\t_\t7\tpunct\t_\t_\n",
            "7\tоткрыла\tоткрЫТЬ\tVERB\tVBC\tAspect=Imp|Gender=Fem|Mood=Ind|Number=Sing|Tense=Past|VerbForm=Fin\t4\tconj\t_\t_\n",
            "8\tпочту\tпочТОТ\tNOUN\tNN\tAnimacy=Inan|Case=Acc|Gender=Fem|Number=Sing\t7\tobj\t_\tSpaceAfter=No\n",
            "9\t,\t,\tPUNCT\t,\t_\t10\tpunct\t_\t_\n",
            "10\tпрочитала\tпрочитала\tVERB\tVBC\tAspect=Imp|Gender=Fem|Mood=Ind|Number=Sing|Tense=Past|VerbForm=Fin\t2\tconj\t_\t_\n",
            "11\tписьмо\tПИСЬМО\tNOUN\tNN\tAnimacy=Inan|Case=Acc|Gender=Neut|Number=Sing\t10\tobj\t_\tSpaceAfter=No\n",
            "12\t,\t,\tPUNCT\t,\t_\t13\tpunct\t_\t_\n",
            "13\tналила\tнАЛИЛА\tVERB\tVBC\tAspect=Imp|Gender=Fem|Mood=Ind|Number=Sing|Tense=Past|VerbForm=Fin\t2\tconj\t_\t_\n",
            "14\tчай\tЧАЙ\tNOUN\tNN\tAnimacy=Inan|Case=Acc|Gender=Masc|Number=Sing\t13\tobj\t_\tSpaceAfter=No\n",
            "15\t.\t.\tPUNCT\t.\t_\t2\tpunct\t_\tSpacesAfter=\\n\n",
            "\n",
            "\n"
          ],
          "name": "stdout"
        }
      ]
    },
    {
      "cell_type": "code",
      "metadata": {
        "id": "OOEVJT2sC49e"
      },
      "source": [
        "def count_conj(sentence: str) -> int:\n",
        "    # ваш код здесь\n",
        "    conj_num = 0\n",
        "    conllu = pipeline.process(conj)\n",
        "    graph = parse_to_graph(conllu)\n",
        "    for i, node in graph.nodes.items():\n",
        "        for dep_type, ids in node['deps'].items():\n",
        "            if dep_type == 'conj' or dep_type == 'ROOT':\n",
        "                conj_num += len(ids)\n",
        "    \n",
        "    return conj_num\n",
        "\n",
        "assert count_conj(conj) == 5, \"Неправильное число однородных членов. Проверьте, \\\n",
        "считаете ли вы первый член в цепочке.\""
      ],
      "execution_count": 20,
      "outputs": []
    },
    {
      "cell_type": "markdown",
      "metadata": {
        "id": "YzKCJgbpsnoW"
      },
      "source": [
        "Ещё одна проблема, на которую обращают внимание в Главреде -- [парцелляция](http://maximilyahov.ru/blog/all/parcel/). Часто она делает предложения менее читаемыми.\n",
        "\n",
        "В неумелых руках парцелляция так же вредна, как и многоточие в конце\n",
        "предложения...\n",
        "\n",
        "По словам Главреда,\n",
        "> Признак парцелляции — предложение синтаксически неполное и само по себе не имеет смысла.\n",
        "\n",
        "Например, в предложении нет субъекта, или вообще что-то странное:"
      ]
    },
    {
      "cell_type": "code",
      "metadata": {
        "id": "Lk9pTZQwsnoZ",
        "colab": {
          "base_uri": "https://localhost:8080/",
          "height": 833
        },
        "outputId": "944ada03-281a-4f31-d1db-6e69ce12aa69"
      },
      "source": [
        "ex = 'А броско, шикарно и выделял бы вас из толпы.'\n",
        "print(pipeline.process(ex))\n",
        "parse_to_graph(pipeline.process(ex))"
      ],
      "execution_count": 21,
      "outputs": [
        {
          "output_type": "stream",
          "text": [
            "# newdoc\n",
            "# newpar\n",
            "# sent_id = 1\n",
            "# text = А броско, шикарно и выделял бы вас из толпы.\n",
            "1\tА\tА\tCCONJ\tCC\t_\t2\tcc:preconj\t_\t_\n",
            "2\tброско\tброско\tNOUN\tNN\tAnimacy=Inan|Case=Acc|Gender=Neut|Number=Sing\t0\troot\t_\tSpaceAfter=No\n",
            "3\t,\t,\tPUNCT\t,\t_\t4\tpunct\t_\t_\n",
            "4\tшикарно\tшикаРНО\tADV\tRB\t_\t2\tconj\t_\t_\n",
            "5\tи\tИ\tCCONJ\tCC\t_\t6\tcc\t_\t_\n",
            "6\tвыделял\tвыделял\tVERB\tVBC\tAspect=Perf|Gender=Masc|Mood=Ind|Number=Sing|Tense=Past|VerbForm=Fin\t2\tconj\t_\t_\n",
            "7\tбы\tБЫ\tPART\tRP\t_\t8\tdiscourse\t_\t_\n",
            "8\tвас\tВЫ\tPRON\tPRP\tCase=Acc|Number=Plur|Person=2\t6\tobj\t_\t_\n",
            "9\tиз\tИЗ\tADP\tIN\t_\t10\tcase\t_\t_\n",
            "10\tтолпы\tтолпы\tNOUN\tNN\tAnimacy=Inan|Case=Gen|Gender=Fem|Number=Sing\t6\tobl\t_\tSpaceAfter=No\n",
            "11\t.\t.\tPUNCT\t.\t_\t2\tpunct\t_\tSpacesAfter=\\n\n",
            "\n",
            "\n"
          ],
          "name": "stdout"
        },
        {
          "output_type": "execute_result",
          "data": {
            "text/plain": [
              "<DependencyGraph with 12 nodes>"
            ],
            "image/svg+xml": "<?xml version=\"1.0\" encoding=\"UTF-8\" standalone=\"no\"?>\n<!DOCTYPE svg PUBLIC \"-//W3C//DTD SVG 1.1//EN\"\n \"http://www.w3.org/Graphics/SVG/1.1/DTD/svg11.dtd\">\n<!-- Generated by graphviz version 2.40.1 (20161225.0304)\n -->\n<!-- Title: G Pages: 1 -->\n<svg width=\"389pt\" height=\"392pt\"\n viewBox=\"0.00 0.00 389.00 392.00\" xmlns=\"http://www.w3.org/2000/svg\" xmlns:xlink=\"http://www.w3.org/1999/xlink\">\n<g id=\"graph0\" class=\"graph\" transform=\"scale(1 1) rotate(0) translate(4 388)\">\n<title>G</title>\n<polygon fill=\"#ffffff\" stroke=\"transparent\" points=\"-4,4 -4,-388 385,-388 385,4 -4,4\"/>\n<!-- 0 -->\n<g id=\"node1\" class=\"node\">\n<title>0</title>\n<text text-anchor=\"middle\" x=\"184\" y=\"-362.3\" font-family=\"Times,serif\" font-size=\"14.00\" fill=\"#000000\">0 (None)</text>\n</g>\n<!-- 2 -->\n<g id=\"node2\" class=\"node\">\n<title>2</title>\n<text text-anchor=\"middle\" x=\"184\" y=\"-275.3\" font-family=\"Times,serif\" font-size=\"14.00\" fill=\"#000000\">2 (броско)</text>\n</g>\n<!-- 0&#45;&gt;2 -->\n<g id=\"edge1\" class=\"edge\">\n<title>0&#45;&gt;2</title>\n<path fill=\"none\" stroke=\"#000000\" d=\"M184,-347.9735C184,-336.1918 184,-320.5607 184,-307.1581\"/>\n<polygon fill=\"#000000\" stroke=\"#000000\" points=\"187.5001,-307.0033 184,-297.0034 180.5001,-307.0034 187.5001,-307.0033\"/>\n<text text-anchor=\"middle\" x=\"204\" y=\"-318.8\" font-family=\"Times,serif\" font-size=\"14.00\" fill=\"#000000\">ROOT</text>\n</g>\n<!-- 1 -->\n<g id=\"node3\" class=\"node\">\n<title>1</title>\n<text text-anchor=\"middle\" x=\"27\" y=\"-188.3\" font-family=\"Times,serif\" font-size=\"14.00\" fill=\"#000000\">1 (А)</text>\n</g>\n<!-- 2&#45;&gt;1 -->\n<g id=\"edge2\" class=\"edge\">\n<title>2&#45;&gt;1</title>\n<path fill=\"none\" stroke=\"#000000\" d=\"M144.4153,-268.3345C125.6683,-262.3669 103.4075,-253.9097 85,-243 73.1678,-235.9873 61.5055,-226.4061 51.7767,-217.4407\"/>\n<polygon fill=\"#000000\" stroke=\"#000000\" points=\"54.0799,-214.801 44.4226,-210.4435 49.2547,-219.8723 54.0799,-214.801\"/>\n<text text-anchor=\"middle\" x=\"114.5\" y=\"-231.8\" font-family=\"Times,serif\" font-size=\"14.00\" fill=\"#000000\">cc:preconj</text>\n</g>\n<!-- 4 -->\n<g id=\"node4\" class=\"node\">\n<title>4</title>\n<text text-anchor=\"middle\" x=\"118\" y=\"-188.3\" font-family=\"Times,serif\" font-size=\"14.00\" fill=\"#000000\">4 (шикарно)</text>\n</g>\n<!-- 2&#45;&gt;4 -->\n<g id=\"edge3\" class=\"edge\">\n<title>2&#45;&gt;4</title>\n<path fill=\"none\" stroke=\"#000000\" d=\"M170.3248,-260.9735C160.9444,-248.6085 148.3475,-232.0036 137.8643,-218.1847\"/>\n<polygon fill=\"#000000\" stroke=\"#000000\" points=\"140.4901,-215.8549 131.6577,-210.0034 134.9132,-220.0857 140.4901,-215.8549\"/>\n<text text-anchor=\"middle\" x=\"167.5\" y=\"-231.8\" font-family=\"Times,serif\" font-size=\"14.00\" fill=\"#000000\">conj</text>\n</g>\n<!-- 6 -->\n<g id=\"node5\" class=\"node\">\n<title>6</title>\n<text text-anchor=\"middle\" x=\"225\" y=\"-188.3\" font-family=\"Times,serif\" font-size=\"14.00\" fill=\"#000000\">6 (выделял)</text>\n</g>\n<!-- 2&#45;&gt;6 -->\n<g id=\"edge4\" class=\"edge\">\n<title>2&#45;&gt;6</title>\n<path fill=\"none\" stroke=\"#000000\" d=\"M192.4952,-260.9735C198.1575,-248.9585 205.7064,-232.9401 212.1041,-219.3646\"/>\n<polygon fill=\"#000000\" stroke=\"#000000\" points=\"215.4187,-220.5413 216.5157,-210.0034 209.0866,-217.5571 215.4187,-220.5413\"/>\n<text text-anchor=\"middle\" x=\"219.5\" y=\"-231.8\" font-family=\"Times,serif\" font-size=\"14.00\" fill=\"#000000\">conj</text>\n</g>\n<!-- 11 -->\n<g id=\"node6\" class=\"node\">\n<title>11</title>\n<text text-anchor=\"middle\" x=\"314\" y=\"-188.3\" font-family=\"Times,serif\" font-size=\"14.00\" fill=\"#000000\">11 (.)</text>\n</g>\n<!-- 2&#45;&gt;11 -->\n<g id=\"edge5\" class=\"edge\">\n<title>2&#45;&gt;11</title>\n<path fill=\"none\" stroke=\"#000000\" d=\"M210.9361,-260.9735C230.5455,-247.8503 257.2913,-229.9512 278.6226,-215.6756\"/>\n<polygon fill=\"#000000\" stroke=\"#000000\" points=\"280.7344,-218.4739 287.0984,-210.0034 276.8411,-212.6564 280.7344,-218.4739\"/>\n<text text-anchor=\"middle\" x=\"273.5\" y=\"-231.8\" font-family=\"Times,serif\" font-size=\"14.00\" fill=\"#000000\">punct</text>\n</g>\n<!-- 3 -->\n<g id=\"node7\" class=\"node\">\n<title>3</title>\n<text text-anchor=\"middle\" x=\"108\" y=\"-101.3\" font-family=\"Times,serif\" font-size=\"14.00\" fill=\"#000000\">3 (,)</text>\n</g>\n<!-- 4&#45;&gt;3 -->\n<g id=\"edge6\" class=\"edge\">\n<title>4&#45;&gt;3</title>\n<path fill=\"none\" stroke=\"#000000\" d=\"M115.928,-173.9735C114.5738,-162.1918 112.7771,-146.5607 111.2366,-133.1581\"/>\n<polygon fill=\"#000000\" stroke=\"#000000\" points=\"114.6885,-132.5383 110.0694,-123.0034 107.7342,-133.3376 114.6885,-132.5383\"/>\n<text text-anchor=\"middle\" x=\"130.5\" y=\"-144.8\" font-family=\"Times,serif\" font-size=\"14.00\" fill=\"#000000\">punct</text>\n</g>\n<!-- 5 -->\n<g id=\"node8\" class=\"node\">\n<title>5</title>\n<text text-anchor=\"middle\" x=\"180\" y=\"-101.3\" font-family=\"Times,serif\" font-size=\"14.00\" fill=\"#000000\">5 (и)</text>\n</g>\n<!-- 6&#45;&gt;5 -->\n<g id=\"edge7\" class=\"edge\">\n<title>6&#45;&gt;5</title>\n<path fill=\"none\" stroke=\"#000000\" d=\"M215.676,-173.9735C209.4009,-161.8418 201.0148,-145.6287 193.9499,-131.9698\"/>\n<polygon fill=\"#000000\" stroke=\"#000000\" points=\"197.0151,-130.2776 189.3121,-123.0034 190.7976,-133.4935 197.0151,-130.2776\"/>\n<text text-anchor=\"middle\" x=\"212.5\" y=\"-144.8\" font-family=\"Times,serif\" font-size=\"14.00\" fill=\"#000000\">cc</text>\n</g>\n<!-- 8 -->\n<g id=\"node9\" class=\"node\">\n<title>8</title>\n<text text-anchor=\"middle\" x=\"253\" y=\"-101.3\" font-family=\"Times,serif\" font-size=\"14.00\" fill=\"#000000\">8 (вас)</text>\n</g>\n<!-- 6&#45;&gt;8 -->\n<g id=\"edge8\" class=\"edge\">\n<title>6&#45;&gt;8</title>\n<path fill=\"none\" stroke=\"#000000\" d=\"M230.8016,-173.9735C234.631,-162.0751 239.7239,-146.2508 244.0655,-132.7606\"/>\n<polygon fill=\"#000000\" stroke=\"#000000\" points=\"247.4738,-133.5948 247.2058,-123.0034 240.8104,-131.4502 247.4738,-133.5948\"/>\n<text text-anchor=\"middle\" x=\"250.5\" y=\"-144.8\" font-family=\"Times,serif\" font-size=\"14.00\" fill=\"#000000\">obj</text>\n</g>\n<!-- 10 -->\n<g id=\"node10\" class=\"node\">\n<title>10</title>\n<text text-anchor=\"middle\" x=\"340\" y=\"-101.3\" font-family=\"Times,serif\" font-size=\"14.00\" fill=\"#000000\">10 (толпы)</text>\n</g>\n<!-- 6&#45;&gt;10 -->\n<g id=\"edge9\" class=\"edge\">\n<title>6&#45;&gt;10</title>\n<path fill=\"none\" stroke=\"#000000\" d=\"M248.8281,-173.9735C266.0207,-160.9669 289.4145,-143.269 308.2003,-129.0571\"/>\n<polygon fill=\"#000000\" stroke=\"#000000\" points=\"310.3391,-131.8279 316.2025,-123.0034 306.1158,-126.2454 310.3391,-131.8279\"/>\n<text text-anchor=\"middle\" x=\"299.5\" y=\"-144.8\" font-family=\"Times,serif\" font-size=\"14.00\" fill=\"#000000\">obl</text>\n</g>\n<!-- 7 -->\n<g id=\"node11\" class=\"node\">\n<title>7</title>\n<text text-anchor=\"middle\" x=\"253\" y=\"-14.3\" font-family=\"Times,serif\" font-size=\"14.00\" fill=\"#000000\">7 (бы)</text>\n</g>\n<!-- 8&#45;&gt;7 -->\n<g id=\"edge10\" class=\"edge\">\n<title>8&#45;&gt;7</title>\n<path fill=\"none\" stroke=\"#000000\" d=\"M253,-86.9735C253,-75.1918 253,-59.5607 253,-46.1581\"/>\n<polygon fill=\"#000000\" stroke=\"#000000\" points=\"256.5001,-46.0033 253,-36.0034 249.5001,-46.0034 256.5001,-46.0033\"/>\n<text text-anchor=\"middle\" x=\"280\" y=\"-57.8\" font-family=\"Times,serif\" font-size=\"14.00\" fill=\"#000000\">discourse</text>\n</g>\n<!-- 9 -->\n<g id=\"node12\" class=\"node\">\n<title>9</title>\n<text text-anchor=\"middle\" x=\"340\" y=\"-14.3\" font-family=\"Times,serif\" font-size=\"14.00\" fill=\"#000000\">9 (из)</text>\n</g>\n<!-- 10&#45;&gt;9 -->\n<g id=\"edge11\" class=\"edge\">\n<title>10&#45;&gt;9</title>\n<path fill=\"none\" stroke=\"#000000\" d=\"M340,-86.9735C340,-75.1918 340,-59.5607 340,-46.1581\"/>\n<polygon fill=\"#000000\" stroke=\"#000000\" points=\"343.5001,-46.0033 340,-36.0034 336.5001,-46.0034 343.5001,-46.0033\"/>\n<text text-anchor=\"middle\" x=\"352\" y=\"-57.8\" font-family=\"Times,serif\" font-size=\"14.00\" fill=\"#000000\">case</text>\n</g>\n</g>\n</svg>\n"
          },
          "metadata": {
            "tags": []
          },
          "execution_count": 21
        }
      ]
    },
    {
      "cell_type": "markdown",
      "metadata": {
        "id": "u6en4cm6snob"
      },
      "source": [
        "Напишите функцию, которая помогает обнаруживать парцелляцию, опираясь на то, что предложение неполное:"
      ]
    },
    {
      "cell_type": "code",
      "metadata": {
        "id": "eGCNg8DQsnob"
      },
      "source": [
        "def get_parc(sentence: str) -> bool:\n",
        "    conllu = pipeline.process(sentence)\n",
        "    graph = parse_to_graph(conllu)\n",
        "    for i, node in graph.nodes.items():\n",
        "        if \"subj\" in node['deps'].keys() or \"nsubj\" in node['deps'].keys():\n",
        "            return False\n",
        "    return True\n",
        "\n",
        "assert get_parc(ex) == True"
      ],
      "execution_count": 22,
      "outputs": []
    },
    {
      "cell_type": "markdown",
      "metadata": {
        "id": "r8drK0SJsnod"
      },
      "source": [
        "А теперь давайте усложним критерий на однородные члены: проверим, не состоит ли предложение из большого числа однородных предложений. Для этого проверим, являются ли однородные члены глаголами."
      ]
    },
    {
      "cell_type": "code",
      "metadata": {
        "id": "QeWw_MCCsnoe"
      },
      "source": [
        "def check_conj(sentence: str) -> bool:\n",
        "    conj_num = 0\n",
        "    conllu = pipeline.process(conj)\n",
        "    graph = parse_to_graph(conllu)\n",
        "    for i, node in graph.nodes.items():\n",
        "        for j in node.items():\n",
        "            if (node['deps'] == 'conj' or node['deps'] == 'ROOT') and (node['ctag'] == 'VERB'):\n",
        "                conj_num += len(ids)\n",
        "    \n",
        "    if conj_num >= 3:\n",
        "        return True\n",
        "    else:\n",
        "        return False"
      ],
      "execution_count": 23,
      "outputs": []
    },
    {
      "cell_type": "code",
      "metadata": {
        "id": "UyvK2ha1EFRQ",
        "colab": {
          "base_uri": "https://localhost:8080/"
        },
        "outputId": "a48e9cc6-43b8-41e9-e2c6-983810da8c36"
      },
      "source": [
        "check_conj(ex)"
      ],
      "execution_count": 24,
      "outputs": [
        {
          "output_type": "execute_result",
          "data": {
            "text/plain": [
              "False"
            ]
          },
          "metadata": {
            "tags": []
          },
          "execution_count": 24
        }
      ]
    },
    {
      "cell_type": "markdown",
      "metadata": {
        "id": "JYwnesjPsnoh"
      },
      "source": [
        "Придумайте метрику для оценки качества предложений на основе написаных функций. Напишите функцию-оцениватель. Пусть она принимает на вход предложение, а возвращает оценку от 1 до 10."
      ]
    },
    {
      "cell_type": "code",
      "metadata": {
        "id": "HBlJscZVsnoi"
      },
      "source": [
        "def get_score(sentence):\n",
        "    parc = int(get_parc(sentence)) \n",
        "    \n",
        "    if check_conj(sentence) == False:\n",
        "        conj = 1\n",
        "    else:\n",
        "        conj = 0\n",
        "\n",
        "    if count_conj(sentence) > 2:\n",
        "        conj_num = 0\n",
        "    else:\n",
        "        conj_num = 1\n",
        "\n",
        "    score = 10 * (parc + conj + conj_num) / 3\n",
        "    return score"
      ],
      "execution_count": 25,
      "outputs": []
    },
    {
      "cell_type": "code",
      "metadata": {
        "colab": {
          "base_uri": "https://localhost:8080/"
        },
        "id": "UVShP3NUdWAW",
        "outputId": "8ab97685-631b-4876-a5d2-da07731cfc66"
      },
      "source": [
        "get_score(ex)"
      ],
      "execution_count": 26,
      "outputs": [
        {
          "output_type": "execute_result",
          "data": {
            "text/plain": [
              "6.666666666666667"
            ]
          },
          "metadata": {
            "tags": []
          },
          "execution_count": 26
        }
      ]
    },
    {
      "cell_type": "markdown",
      "metadata": {
        "id": "g8tPzplHsnoj"
      },
      "source": [
        "Если осталось время, придумайте и напишите свою функцию, которая помогала бы оценивать качество текста. Добавьте её в метрику."
      ]
    },
    {
      "cell_type": "code",
      "metadata": {
        "id": "so7Ttf0Fsnok"
      },
      "source": [
        ""
      ],
      "execution_count": 26,
      "outputs": []
    },
    {
      "cell_type": "markdown",
      "metadata": {
        "id": "PiQFqO0nsnom"
      },
      "source": [
        "## SVO-triples\n",
        "\n",
        "С помощью синтекстического парсинга можно извлекать из предложений тройки субъект-объект-глагол, которые можно использовать для извлечения информации из текста.  "
      ]
    },
    {
      "cell_type": "code",
      "metadata": {
        "id": "EKmsDwPGsnon"
      },
      "source": [
        "sent = \"\"\"1\tСобянин\t_\tNOUN\t_\tAnimacy=Anim|Case=Nom|Gender=Masc|Number=Sing|fPOS=NOUN++\t2\tnsubj\t_\t_\n",
        "2\tоткрыл\t_\tVERB\t_\tAspect=Perf|Gender=Masc|Mood=Ind|Number=Sing|Tense=Past|VerbForm=Fin|Voice=Act|fPOS=VERB++\t0\tROOT\t_\t_\n",
        "3\tновый\t_\tADJ\t_\tAnimacy=Inan|Case=Acc|Degree=Pos|Gender=Masc|Number=Sing|fPOS=ADJ++\t4\tamod\t_\t_\n",
        "4\tпарк\t_\tNOUN\t_\tAnimacy=Inan|Case=Acc|Gender=Masc|Number=Sing|fPOS=NOUN++\t2\tdobj\t_\t_\n",
        "5\tи\t_\tCONJ\t_\tfPOS=CONJ++\t4\tcc\t_\t_\n",
        "6\tдетскую\t_\tADJ\t_\tCase=Acc|Degree=Pos|Gender=Fem|Number=Sing|fPOS=ADJ++\t7\tamod\t_\t_\n",
        "7\tплощадку\t_\tNOUN\t_\tAnimacy=Inan|Case=Acc|Gender=Fem|Number=Sing|fPOS=NOUN++\t4\tconj\t_\t_\n",
        "8\t.\t_\tPUNCT\t.\tfPOS=PUNCT++.\t2\tpunct\t_\t_\"\"\""
      ],
      "execution_count": 27,
      "outputs": []
    },
    {
      "cell_type": "markdown",
      "metadata": {
        "id": "Sh4VK9xOsnoo"
      },
      "source": [
        "Тройки слово-слово-связь:"
      ]
    },
    {
      "cell_type": "code",
      "metadata": {
        "id": "Vqr-wojtWWZ7",
        "colab": {
          "base_uri": "https://localhost:8080/",
          "height": 544
        },
        "outputId": "64a9fb63-e7c4-457a-edce-80fcd23eca56"
      },
      "source": [
        "parse_to_graph(pipeline.process('Собянин открыл новый парк и детскую площадку.'))"
      ],
      "execution_count": 28,
      "outputs": [
        {
          "output_type": "execute_result",
          "data": {
            "text/plain": [
              "<DependencyGraph with 9 nodes>"
            ],
            "image/svg+xml": "<?xml version=\"1.0\" encoding=\"UTF-8\" standalone=\"no\"?>\n<!DOCTYPE svg PUBLIC \"-//W3C//DTD SVG 1.1//EN\"\n \"http://www.w3.org/Graphics/SVG/1.1/DTD/svg11.dtd\">\n<!-- Generated by graphviz version 2.40.1 (20161225.0304)\n -->\n<!-- Title: G Pages: 1 -->\n<svg width=\"302pt\" height=\"392pt\"\n viewBox=\"0.00 0.00 302.00 392.00\" xmlns=\"http://www.w3.org/2000/svg\" xmlns:xlink=\"http://www.w3.org/1999/xlink\">\n<g id=\"graph0\" class=\"graph\" transform=\"scale(1 1) rotate(0) translate(4 388)\">\n<title>G</title>\n<polygon fill=\"#ffffff\" stroke=\"transparent\" points=\"-4,4 -4,-388 298,-388 298,4 -4,4\"/>\n<!-- 0 -->\n<g id=\"node1\" class=\"node\">\n<title>0</title>\n<text text-anchor=\"middle\" x=\"141.5\" y=\"-362.3\" font-family=\"Times,serif\" font-size=\"14.00\" fill=\"#000000\">0 (None)</text>\n</g>\n<!-- 2 -->\n<g id=\"node2\" class=\"node\">\n<title>2</title>\n<text text-anchor=\"middle\" x=\"141.5\" y=\"-275.3\" font-family=\"Times,serif\" font-size=\"14.00\" fill=\"#000000\">2 (открыл)</text>\n</g>\n<!-- 0&#45;&gt;2 -->\n<g id=\"edge1\" class=\"edge\">\n<title>0&#45;&gt;2</title>\n<path fill=\"none\" stroke=\"#000000\" d=\"M141.5,-347.9735C141.5,-336.1918 141.5,-320.5607 141.5,-307.1581\"/>\n<polygon fill=\"#000000\" stroke=\"#000000\" points=\"145.0001,-307.0033 141.5,-297.0034 138.0001,-307.0034 145.0001,-307.0033\"/>\n<text text-anchor=\"middle\" x=\"161.5\" y=\"-318.8\" font-family=\"Times,serif\" font-size=\"14.00\" fill=\"#000000\">ROOT</text>\n</g>\n<!-- 1 -->\n<g id=\"node3\" class=\"node\">\n<title>1</title>\n<text text-anchor=\"middle\" x=\"45.5\" y=\"-188.3\" font-family=\"Times,serif\" font-size=\"14.00\" fill=\"#000000\">1 (Собянин)</text>\n</g>\n<!-- 2&#45;&gt;1 -->\n<g id=\"edge2\" class=\"edge\">\n<title>2&#45;&gt;1</title>\n<path fill=\"none\" stroke=\"#000000\" d=\"M121.6087,-260.9735C107.5784,-248.2586 88.601,-231.0603 73.1064,-217.0183\"/>\n<polygon fill=\"#000000\" stroke=\"#000000\" points=\"75.126,-214.1251 65.3658,-210.0034 70.4253,-219.3121 75.126,-214.1251\"/>\n<text text-anchor=\"middle\" x=\"115.5\" y=\"-231.8\" font-family=\"Times,serif\" font-size=\"14.00\" fill=\"#000000\">nsubj</text>\n</g>\n<!-- 4 -->\n<g id=\"node4\" class=\"node\">\n<title>4</title>\n<text text-anchor=\"middle\" x=\"141.5\" y=\"-188.3\" font-family=\"Times,serif\" font-size=\"14.00\" fill=\"#000000\">4 (парк)</text>\n</g>\n<!-- 2&#45;&gt;4 -->\n<g id=\"edge3\" class=\"edge\">\n<title>2&#45;&gt;4</title>\n<path fill=\"none\" stroke=\"#000000\" d=\"M141.5,-260.9735C141.5,-249.1918 141.5,-233.5607 141.5,-220.1581\"/>\n<polygon fill=\"#000000\" stroke=\"#000000\" points=\"145.0001,-220.0033 141.5,-210.0034 138.0001,-220.0034 145.0001,-220.0033\"/>\n<text text-anchor=\"middle\" x=\"151\" y=\"-231.8\" font-family=\"Times,serif\" font-size=\"14.00\" fill=\"#000000\">obj</text>\n</g>\n<!-- 8 -->\n<g id=\"node5\" class=\"node\">\n<title>8</title>\n<text text-anchor=\"middle\" x=\"219.5\" y=\"-188.3\" font-family=\"Times,serif\" font-size=\"14.00\" fill=\"#000000\">8 (.)</text>\n</g>\n<!-- 2&#45;&gt;8 -->\n<g id=\"edge4\" class=\"edge\">\n<title>2&#45;&gt;8</title>\n<path fill=\"none\" stroke=\"#000000\" d=\"M157.6617,-260.9735C168.8521,-248.4919 183.9159,-231.6899 196.374,-217.7944\"/>\n<polygon fill=\"#000000\" stroke=\"#000000\" points=\"199.2896,-219.7855 203.3591,-210.0034 194.0776,-215.1127 199.2896,-219.7855\"/>\n<text text-anchor=\"middle\" x=\"202\" y=\"-231.8\" font-family=\"Times,serif\" font-size=\"14.00\" fill=\"#000000\">punct</text>\n</g>\n<!-- 3 -->\n<g id=\"node6\" class=\"node\">\n<title>3</title>\n<text text-anchor=\"middle\" x=\"101.5\" y=\"-101.3\" font-family=\"Times,serif\" font-size=\"14.00\" fill=\"#000000\">3 (новый)</text>\n</g>\n<!-- 4&#45;&gt;3 -->\n<g id=\"edge5\" class=\"edge\">\n<title>4&#45;&gt;3</title>\n<path fill=\"none\" stroke=\"#000000\" d=\"M133.212,-173.9735C127.6878,-161.9585 120.323,-145.9401 114.0814,-132.3646\"/>\n<polygon fill=\"#000000\" stroke=\"#000000\" points=\"117.1348,-130.627 109.7774,-123.0034 110.7748,-133.5512 117.1348,-130.627\"/>\n<text text-anchor=\"middle\" x=\"141\" y=\"-144.8\" font-family=\"Times,serif\" font-size=\"14.00\" fill=\"#000000\">amod</text>\n</g>\n<!-- 7 -->\n<g id=\"node7\" class=\"node\">\n<title>7</title>\n<text text-anchor=\"middle\" x=\"206.5\" y=\"-101.3\" font-family=\"Times,serif\" font-size=\"14.00\" fill=\"#000000\">7 (площадку)</text>\n</g>\n<!-- 4&#45;&gt;7 -->\n<g id=\"edge6\" class=\"edge\">\n<title>4&#45;&gt;7</title>\n<path fill=\"none\" stroke=\"#000000\" d=\"M154.968,-173.9735C164.2063,-161.6085 176.6123,-145.0036 186.9367,-131.1847\"/>\n<polygon fill=\"#000000\" stroke=\"#000000\" points=\"189.8678,-133.1093 193.0492,-123.0034 184.26,-128.9196 189.8678,-133.1093\"/>\n<text text-anchor=\"middle\" x=\"191\" y=\"-144.8\" font-family=\"Times,serif\" font-size=\"14.00\" fill=\"#000000\">conj</text>\n</g>\n<!-- 5 -->\n<g id=\"node8\" class=\"node\">\n<title>5</title>\n<text text-anchor=\"middle\" x=\"161.5\" y=\"-14.3\" font-family=\"Times,serif\" font-size=\"14.00\" fill=\"#000000\">5 (и)</text>\n</g>\n<!-- 7&#45;&gt;5 -->\n<g id=\"edge7\" class=\"edge\">\n<title>7&#45;&gt;5</title>\n<path fill=\"none\" stroke=\"#000000\" d=\"M197.176,-86.9735C190.9009,-74.8418 182.5148,-58.6287 175.4499,-44.9698\"/>\n<polygon fill=\"#000000\" stroke=\"#000000\" points=\"178.5151,-43.2776 170.8121,-36.0034 172.2976,-46.4935 178.5151,-43.2776\"/>\n<text text-anchor=\"middle\" x=\"194\" y=\"-57.8\" font-family=\"Times,serif\" font-size=\"14.00\" fill=\"#000000\">cc</text>\n</g>\n<!-- 6 -->\n<g id=\"node9\" class=\"node\">\n<title>6</title>\n<text text-anchor=\"middle\" x=\"250.5\" y=\"-14.3\" font-family=\"Times,serif\" font-size=\"14.00\" fill=\"#000000\">6 (детскую)</text>\n</g>\n<!-- 7&#45;&gt;6 -->\n<g id=\"edge8\" class=\"edge\">\n<title>7&#45;&gt;6</title>\n<path fill=\"none\" stroke=\"#000000\" d=\"M215.6168,-86.9735C221.7524,-74.8418 229.9522,-58.6287 236.8601,-44.9698\"/>\n<polygon fill=\"#000000\" stroke=\"#000000\" points=\"240.005,-46.5066 241.3949,-36.0034 233.7584,-43.3474 240.005,-46.5066\"/>\n<text text-anchor=\"middle\" x=\"248\" y=\"-57.8\" font-family=\"Times,serif\" font-size=\"14.00\" fill=\"#000000\">amod</text>\n</g>\n</g>\n</svg>\n"
          },
          "metadata": {
            "tags": []
          },
          "execution_count": 28
        }
      ]
    },
    {
      "cell_type": "code",
      "metadata": {
        "id": "XJKrj3Lcsnop",
        "colab": {
          "base_uri": "https://localhost:8080/",
          "height": 544
        },
        "outputId": "60b05264-23e1-4bb8-d199-90b1e3281a16"
      },
      "source": [
        "graph = DependencyGraph(tree_str=sent)\n",
        "graph"
      ],
      "execution_count": 29,
      "outputs": [
        {
          "output_type": "execute_result",
          "data": {
            "text/plain": [
              "<DependencyGraph with 9 nodes>"
            ],
            "image/svg+xml": "<?xml version=\"1.0\" encoding=\"UTF-8\" standalone=\"no\"?>\n<!DOCTYPE svg PUBLIC \"-//W3C//DTD SVG 1.1//EN\"\n \"http://www.w3.org/Graphics/SVG/1.1/DTD/svg11.dtd\">\n<!-- Generated by graphviz version 2.40.1 (20161225.0304)\n -->\n<!-- Title: G Pages: 1 -->\n<svg width=\"293pt\" height=\"392pt\"\n viewBox=\"0.00 0.00 292.50 392.00\" xmlns=\"http://www.w3.org/2000/svg\" xmlns:xlink=\"http://www.w3.org/1999/xlink\">\n<g id=\"graph0\" class=\"graph\" transform=\"scale(1 1) rotate(0) translate(4 388)\">\n<title>G</title>\n<polygon fill=\"#ffffff\" stroke=\"transparent\" points=\"-4,4 -4,-388 288.5,-388 288.5,4 -4,4\"/>\n<!-- 0 -->\n<g id=\"node1\" class=\"node\">\n<title>0</title>\n<text text-anchor=\"middle\" x=\"141.5\" y=\"-362.3\" font-family=\"Times,serif\" font-size=\"14.00\" fill=\"#000000\">0 (None)</text>\n</g>\n<!-- 2 -->\n<g id=\"node2\" class=\"node\">\n<title>2</title>\n<text text-anchor=\"middle\" x=\"141.5\" y=\"-275.3\" font-family=\"Times,serif\" font-size=\"14.00\" fill=\"#000000\">2 (открыл)</text>\n</g>\n<!-- 0&#45;&gt;2 -->\n<g id=\"edge1\" class=\"edge\">\n<title>0&#45;&gt;2</title>\n<path fill=\"none\" stroke=\"#000000\" d=\"M141.5,-347.9735C141.5,-336.1918 141.5,-320.5607 141.5,-307.1581\"/>\n<polygon fill=\"#000000\" stroke=\"#000000\" points=\"145.0001,-307.0033 141.5,-297.0034 138.0001,-307.0034 145.0001,-307.0033\"/>\n<text text-anchor=\"middle\" x=\"161.5\" y=\"-318.8\" font-family=\"Times,serif\" font-size=\"14.00\" fill=\"#000000\">ROOT</text>\n</g>\n<!-- 1 -->\n<g id=\"node3\" class=\"node\">\n<title>1</title>\n<text text-anchor=\"middle\" x=\"45.5\" y=\"-188.3\" font-family=\"Times,serif\" font-size=\"14.00\" fill=\"#000000\">1 (Собянин)</text>\n</g>\n<!-- 2&#45;&gt;1 -->\n<g id=\"edge2\" class=\"edge\">\n<title>2&#45;&gt;1</title>\n<path fill=\"none\" stroke=\"#000000\" d=\"M121.6087,-260.9735C107.5784,-248.2586 88.601,-231.0603 73.1064,-217.0183\"/>\n<polygon fill=\"#000000\" stroke=\"#000000\" points=\"75.126,-214.1251 65.3658,-210.0034 70.4253,-219.3121 75.126,-214.1251\"/>\n<text text-anchor=\"middle\" x=\"115.5\" y=\"-231.8\" font-family=\"Times,serif\" font-size=\"14.00\" fill=\"#000000\">nsubj</text>\n</g>\n<!-- 4 -->\n<g id=\"node4\" class=\"node\">\n<title>4</title>\n<text text-anchor=\"middle\" x=\"141.5\" y=\"-188.3\" font-family=\"Times,serif\" font-size=\"14.00\" fill=\"#000000\">4 (парк)</text>\n</g>\n<!-- 2&#45;&gt;4 -->\n<g id=\"edge3\" class=\"edge\">\n<title>2&#45;&gt;4</title>\n<path fill=\"none\" stroke=\"#000000\" d=\"M141.5,-260.9735C141.5,-249.1918 141.5,-233.5607 141.5,-220.1581\"/>\n<polygon fill=\"#000000\" stroke=\"#000000\" points=\"145.0001,-220.0033 141.5,-210.0034 138.0001,-220.0034 145.0001,-220.0033\"/>\n<text text-anchor=\"middle\" x=\"155\" y=\"-231.8\" font-family=\"Times,serif\" font-size=\"14.00\" fill=\"#000000\">dobj</text>\n</g>\n<!-- 8 -->\n<g id=\"node5\" class=\"node\">\n<title>8</title>\n<text text-anchor=\"middle\" x=\"219.5\" y=\"-188.3\" font-family=\"Times,serif\" font-size=\"14.00\" fill=\"#000000\">8 (.)</text>\n</g>\n<!-- 2&#45;&gt;8 -->\n<g id=\"edge4\" class=\"edge\">\n<title>2&#45;&gt;8</title>\n<path fill=\"none\" stroke=\"#000000\" d=\"M157.6617,-260.9735C168.8521,-248.4919 183.9159,-231.6899 196.374,-217.7944\"/>\n<polygon fill=\"#000000\" stroke=\"#000000\" points=\"199.2896,-219.7855 203.3591,-210.0034 194.0776,-215.1127 199.2896,-219.7855\"/>\n<text text-anchor=\"middle\" x=\"202\" y=\"-231.8\" font-family=\"Times,serif\" font-size=\"14.00\" fill=\"#000000\">punct</text>\n</g>\n<!-- 3 -->\n<g id=\"node6\" class=\"node\">\n<title>3</title>\n<text text-anchor=\"middle\" x=\"58.5\" y=\"-101.3\" font-family=\"Times,serif\" font-size=\"14.00\" fill=\"#000000\">3 (новый)</text>\n</g>\n<!-- 4&#45;&gt;3 -->\n<g id=\"edge5\" class=\"edge\">\n<title>4&#45;&gt;3</title>\n<path fill=\"none\" stroke=\"#000000\" d=\"M122.4425,-173.9193C116.6063,-168.2595 110.2192,-161.9396 104.5,-156 96.7284,-147.9289 88.4642,-138.9114 81.1163,-130.7298\"/>\n<polygon fill=\"#000000\" stroke=\"#000000\" points=\"83.6671,-128.3316 74.398,-123.2 78.4439,-132.9919 83.6671,-128.3316\"/>\n<text text-anchor=\"middle\" x=\"121\" y=\"-144.8\" font-family=\"Times,serif\" font-size=\"14.00\" fill=\"#000000\">amod</text>\n</g>\n<!-- 5 -->\n<g id=\"node7\" class=\"node\">\n<title>5</title>\n<text text-anchor=\"middle\" x=\"141.5\" y=\"-101.3\" font-family=\"Times,serif\" font-size=\"14.00\" fill=\"#000000\">5 (и)</text>\n</g>\n<!-- 4&#45;&gt;5 -->\n<g id=\"edge6\" class=\"edge\">\n<title>4&#45;&gt;5</title>\n<path fill=\"none\" stroke=\"#000000\" d=\"M141.5,-173.9735C141.5,-162.1918 141.5,-146.5607 141.5,-133.1581\"/>\n<polygon fill=\"#000000\" stroke=\"#000000\" points=\"145.0001,-133.0033 141.5,-123.0034 138.0001,-133.0034 145.0001,-133.0033\"/>\n<text text-anchor=\"middle\" x=\"148\" y=\"-144.8\" font-family=\"Times,serif\" font-size=\"14.00\" fill=\"#000000\">cc</text>\n</g>\n<!-- 7 -->\n<g id=\"node8\" class=\"node\">\n<title>7</title>\n<text text-anchor=\"middle\" x=\"235.5\" y=\"-101.3\" font-family=\"Times,serif\" font-size=\"14.00\" fill=\"#000000\">7 (площадку)</text>\n</g>\n<!-- 4&#45;&gt;7 -->\n<g id=\"edge7\" class=\"edge\">\n<title>4&#45;&gt;7</title>\n<path fill=\"none\" stroke=\"#000000\" d=\"M160.9769,-173.9735C174.7149,-161.2586 193.2969,-144.0603 208.4688,-130.0183\"/>\n<polygon fill=\"#000000\" stroke=\"#000000\" points=\"211.0864,-132.3646 216.0481,-123.0034 206.3316,-127.2272 211.0864,-132.3646\"/>\n<text text-anchor=\"middle\" x=\"207\" y=\"-144.8\" font-family=\"Times,serif\" font-size=\"14.00\" fill=\"#000000\">conj</text>\n</g>\n<!-- 6 -->\n<g id=\"node9\" class=\"node\">\n<title>6</title>\n<text text-anchor=\"middle\" x=\"235.5\" y=\"-14.3\" font-family=\"Times,serif\" font-size=\"14.00\" fill=\"#000000\">6 (детскую)</text>\n</g>\n<!-- 7&#45;&gt;6 -->\n<g id=\"edge8\" class=\"edge\">\n<title>7&#45;&gt;6</title>\n<path fill=\"none\" stroke=\"#000000\" d=\"M235.5,-86.9735C235.5,-75.1918 235.5,-59.5607 235.5,-46.1581\"/>\n<polygon fill=\"#000000\" stroke=\"#000000\" points=\"239.0001,-46.0033 235.5,-36.0034 232.0001,-46.0034 239.0001,-46.0033\"/>\n<text text-anchor=\"middle\" x=\"252\" y=\"-57.8\" font-family=\"Times,serif\" font-size=\"14.00\" fill=\"#000000\">amod</text>\n</g>\n</g>\n</svg>\n"
          },
          "metadata": {
            "tags": []
          },
          "execution_count": 29
        }
      ]
    },
    {
      "cell_type": "code",
      "metadata": {
        "id": "xw_QoBTQRGD8",
        "colab": {
          "base_uri": "https://localhost:8080/"
        },
        "outputId": "b2464201-3f4b-419f-9812-b92de8278eb6"
      },
      "source": [
        "list(graph.triples())"
      ],
      "execution_count": 30,
      "outputs": [
        {
          "output_type": "execute_result",
          "data": {
            "text/plain": [
              "[(('открыл', 'VERB'), 'nsubj', ('Собянин', 'NOUN')),\n",
              " (('открыл', 'VERB'), 'dobj', ('парк', 'NOUN')),\n",
              " (('парк', 'NOUN'), 'amod', ('новый', 'ADJ')),\n",
              " (('парк', 'NOUN'), 'cc', ('и', 'CONJ')),\n",
              " (('парк', 'NOUN'), 'conj', ('площадку', 'NOUN')),\n",
              " (('площадку', 'NOUN'), 'amod', ('детскую', 'ADJ')),\n",
              " (('открыл', 'VERB'), 'punct', ('.', 'PUNCT'))]"
            ]
          },
          "metadata": {
            "tags": []
          },
          "execution_count": 30
        }
      ]
    },
    {
      "cell_type": "markdown",
      "metadata": {
        "id": "YQ0ZgAc-snor"
      },
      "source": [
        "Тройки субьект-объект-глагол:"
      ]
    },
    {
      "cell_type": "code",
      "metadata": {
        "id": "t3ZypFBZsnor",
        "colab": {
          "base_uri": "https://localhost:8080/"
        },
        "outputId": "9a1f39d5-4818-4241-c2d1-19c7652dbcff"
      },
      "source": [
        "def get_sov(sent: str):\n",
        "    graph = parse_to_graph(sent)\n",
        "    sov = {}\n",
        "    for triple in graph.triples():\n",
        "        if triple:\n",
        "            if triple[0][1] == 'VERB':\n",
        "                sov[triple[0][0]] = {'subj':'','obj':''}\n",
        "    for triple in graph.triples():\n",
        "        if triple:\n",
        "            if triple[1] == 'nsubj':\n",
        "                if triple[0][1] == 'VERB':\n",
        "                    sov[triple[0][0]]['subj']  = triple[2][0]\n",
        "            if triple[1] in ['dobj', 'obj']:\n",
        "                if triple[0][1] == 'VERB':\n",
        "                    sov[triple[0][0]]['obj'] = triple[2][0]\n",
        "    return sov\n",
        "\n",
        "sov = get_sov(sent)\n",
        "print(sov)"
      ],
      "execution_count": 31,
      "outputs": [
        {
          "output_type": "stream",
          "text": [
            "{'открыл': {'subj': 'Собянин', 'obj': 'парк'}}\n"
          ],
          "name": "stdout"
        }
      ]
    },
    {
      "cell_type": "markdown",
      "metadata": {
        "id": "hzILiVVosnot"
      },
      "source": [
        "Измените код выше так, чтобы учитывались:\n",
        "    1. Однородные члены предложения \n",
        "        * (парк, площадка), (Германия, Щвейцария)\n",
        "    2. Сложные сказуемые \n",
        "        * (начнет продавать), (запретил провозить)\n",
        "    3. Непрямые объекты\n",
        "        * (едет, Польшу), (спел, скандале)"
      ]
    },
    {
      "cell_type": "code",
      "metadata": {
        "id": "OeuLjjx8Uq8I",
        "colab": {
          "base_uri": "https://localhost:8080/"
        },
        "outputId": "07206f4a-d804-41e2-977e-dfbc9f36dafb"
      },
      "source": [
        "def get_sov(sent: str):\n",
        "    graph = parse_to_graph(sent)\n",
        "    objs = []\n",
        "    sov = {}\n",
        "    for triple in graph.triples():\n",
        "        if triple:\n",
        "            if triple[0][1] == 'VERB':\n",
        "                sov[triple[0][0]] = {'subj': '','obj': objs}\n",
        "    for triple in graph.triples():\n",
        "        if triple:\n",
        "            if triple[1] == 'nsubj':\n",
        "                if triple[0][1] == 'VERB':\n",
        "                    sov[triple[0][0]]['subj']  = triple[2][0]\n",
        "            if triple[1] in ['dobj', 'obj', 'conj']:\n",
        "                if triple[0][1] == 'VERB' or triple[0][1] == 'NOUN':\n",
        "                    objs.append(triple[2][0])\n",
        "                    sov[list(sov.keys())[0]]['obj'] = objs\n",
        "    return sov\n",
        "\n",
        "sov = get_sov(sent)\n",
        "print(sov)"
      ],
      "execution_count": 42,
      "outputs": [
        {
          "output_type": "stream",
          "text": [
            "{'открыл': {'subj': 'Собянин', 'obj': ['парк', 'площадку']}}\n"
          ],
          "name": "stdout"
        }
      ]
    }
  ]
}